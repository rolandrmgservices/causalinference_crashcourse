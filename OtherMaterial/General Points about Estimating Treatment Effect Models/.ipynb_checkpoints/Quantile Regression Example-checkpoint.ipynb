{
 "cells": [
  {
   "cell_type": "markdown",
   "id": "06b21784",
   "metadata": {},
   "source": [
    "# Quantile Regression Example\n",
    "Julian Hsu\n",
    "\n",
    "10-August-2023"
   ]
  },
  {
   "cell_type": "code",
   "execution_count": 1,
   "id": "5dd01795",
   "metadata": {},
   "outputs": [],
   "source": [
    "import pandas as pd\n",
    "import numpy as np\n",
    "import os as os \n",
    "\n",
    "from matplotlib import gridspec\n",
    "import matplotlib.pyplot as plt\n",
    "%matplotlib inline  \n",
    "\n",
    "import statsmodels.api as sm"
   ]
  },
  {
   "cell_type": "markdown",
   "id": "04bc8663",
   "metadata": {},
   "source": [
    "## DGP Functions"
   ]
  },
  {
   "cell_type": "code",
   "execution_count": 5,
   "id": "843742f7",
   "metadata": {},
   "outputs": [],
   "source": [
    "## Write a function to write simulated data that has a skew in outcomes explainable byu observed features\n",
    "def dgp(N=1000, te=100, skew_var=1, X_random = 0.05):\n",
    "    \n",
    "    ## X1 is a normal variable\n",
    "    x1 = np.random.normal(0,skew_var, N)\n",
    "    \n",
    "    ## X2 is bimodaly distributed\n",
    "    x2 = np.zeros(N)\n",
    "    x2[0: int(N/4)] = np.random.uniform(-5,-2, int(N/4))\n",
    "    x2[-1*int(N/4):] = np.random.uniform(2,5, int(N/4))\n",
    "    \n",
    "\n",
    "    ## For a random X%, generate skewed outliers    \n",
    "    random10 = int( N * X_random )    \n",
    "    x1[0:random10] = np.random.uniform( np.percentile(x1,0.95),np.percentile(x1,0.95)*1.75, random10 )\n",
    "    \n",
    "    treatment_latent = 10*(x2-0.5)**2 + 10*x1\n",
    "    m,s = np.average(treatment_latent), np.std(treatment_latent)\n",
    "    treatment_latent = (treatment_latent - m) / s\n",
    "    \n",
    "    random_t = np.random.normal(0,1,N)\n",
    "    \n",
    "    treatment_latent += random_t\n",
    "    \n",
    "    treatment = np.array( np.exp(treatment_latent) / (1+ np.exp(treatment_latent)) > np.random.uniform(0,1,N) ).astype(np.int32)\n",
    "\n",
    "    treatment[0:random10] = np.random.choice(2, random10)\n",
    "    \n",
    "    Y = 100 +1.5*x1 + 6*x2 + np.random.normal(0,1, N)\n",
    "\n",
    "    GT = te\n",
    "    Y += GT*(treatment==1) \n",
    "        \n",
    "    df_est = pd.DataFrame({'x1':x1, 'x2':x2,'treatment':treatment, 'Y':Y, 'GT':GT} )\n",
    "    return df_est"
   ]
  },
  {
   "cell_type": "code",
   "execution_count": 6,
   "id": "4d1fd5a3",
   "metadata": {},
   "outputs": [],
   "source": [
    "df = dgp(N=1000, te=5, skew_var=1, X_random = 0.05)\n"
   ]
  },
  {
   "cell_type": "code",
   "execution_count": 10,
   "id": "b3517f8b",
   "metadata": {},
   "outputs": [
    {
     "data": {
      "text/plain": [
       "<matplotlib.collections.PathCollection at 0x28a02779430>"
      ]
     },
     "execution_count": 10,
     "metadata": {},
     "output_type": "execute_result"
    },
    {
     "data": {
      "image/png": "[encoded data removed]",
      "text/plain": [
       "<Figure size 800x300 with 1 Axes>"
      ]
     },
     "metadata": {},
     "output_type": "display_data"
    }
   ],
   "source": [
    "fig,ax = plt.subplots(ncols=1,nrows=1,figsize=(8,3))\n",
    "ax.scatter(df['x2'], df['Y'])"
   ]
  },
  {
   "cell_type": "code",
   "execution_count": 11,
   "id": "69d641a7",
   "metadata": {},
   "outputs": [
    {
     "ename": "TypeError",
     "evalue": "__init__() missing 2 required positional arguments: 'endog' and 'exog'",
     "output_type": "error",
     "traceback": [
      "\u001b[1;31m---------------------------------------------------------------------------\u001b[0m",
      "\u001b[1;31mTypeError\u001b[0m                                 Traceback (most recent call last)",
      "\u001b[1;32m~\\AppData\\Local\\Temp\\ipykernel_4184\\1154472297.py\u001b[0m in \u001b[0;36m<module>\u001b[1;34m\u001b[0m\n\u001b[1;32m----> 1\u001b[1;33m \u001b[0msm\u001b[0m\u001b[1;33m.\u001b[0m\u001b[0mQuantReg\u001b[0m\u001b[1;33m(\u001b[0m\u001b[1;33m)\u001b[0m\u001b[1;33m\u001b[0m\u001b[1;33m\u001b[0m\u001b[0m\n\u001b[0m",
      "\u001b[1;31mTypeError\u001b[0m: __init__() missing 2 required positional arguments: 'endog' and 'exog'"
     ]
    }
   ],
   "source": [
    ", vsm.QuantReg(endog=df['Y'],\n",
    "              )"
   ]
  },
  {
   "cell_type": "code",
   "execution_count": null,
   "id": "999e2d31",
   "metadata": {},
   "outputs": [],
   "source": []
  }
 ],
 "metadata": {
  "kernelspec": {
   "display_name": "Python 3 (ipykernel)",
   "language": "python",
   "name": "python3"
  },
  "language_info": {
   "codemirror_mode": {
    "name": "ipython",
    "version": 3
   },
   "file_extension": ".py",
   "mimetype": "text/x-python",
   "name": "python",
   "nbconvert_exporter": "python",
   "pygments_lexer": "ipython3",
   "version": "3.9.13"
  }
 },
 "nbformat": 4,
 "nbformat_minor": 5
}
