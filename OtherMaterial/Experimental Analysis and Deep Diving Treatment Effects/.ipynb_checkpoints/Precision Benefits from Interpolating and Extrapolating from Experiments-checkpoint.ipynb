{
 "cells": [
  {
   "cell_type": "markdown",
   "id": "6808d9db",
   "metadata": {},
   "source": [
    "# Fixed Effect vs Continuous Feature in Experiments\n",
    "Julian Hsu\n",
    "18-july-2023\n",
    "\n",
    "The purpose of this script is to understand the implications of modeling the experimental variation as a fixed effect versus continuous feature. \n",
    "\n",
    "Consider an experiment where we randomly changed $w_i$ to be $w_1$ and $w_2$. We want to know calculating the standard error from two OLS regressions:\n",
    "$$ Y_i = \\beta_0 + \\tau_1 1\\{w_i = w_1\\} + \\tau_2 1\\{w_i = w_2\\} + \\epsilon_i $$\n",
    "$$ Y_i = \\beta_0 + \\alpha w_i + \\eta_i $$\n",
    "and then finding the point estimate and standard error from the average of $\\hat{\\tau}_1$ and $\\hat{\\tau}_2$ to that of $\\hat{\\alpha} (w_1 + w_2) / 2$."
   ]
  },
  {
   "cell_type": "markdown",
   "id": "1b9e067f",
   "metadata": {},
   "source": [
    "**Sound byte**: There are precision benefits from making assumptions about your data. We often want to test more treatments than we feasibly deploy. *When you experiment with a low and high price change, can you infer how a medium price change would do?* I show below with simulated data that if you are willing to assume a linear relationship in price change, then your confidence interval is much smaller. The confidence interval is wider if you assume the two treatments' impacts are not related.\n",
    "\n",
    "Assuming a relationship between the treatments means that you can link the results from your two experiments and use it to better predict the impacts of \"counterfactual treatments.\" Of course, you *must consider* whether this assumption seems reasonable. The further apart the two treatments, the less likely there is a linear relationship.\n",
    "\n",
    "I find the same if you want to extrapolate from your limited experiments too. Check it out here! (link)"
   ]
  },
  {
   "cell_type": "code",
   "execution_count": 89,
   "id": "216c1a31",
   "metadata": {},
   "outputs": [],
   "source": [
    "import numpy as np\n",
    "import pandas as pd\n",
    "import statsmodels.api as sm\n",
    "\n",
    "\n",
    "%matplotlib inline\n",
    "\n",
    "import matplotlib\n",
    "import matplotlib.pyplot as plt\n"
   ]
  },
  {
   "cell_type": "markdown",
   "id": "4ba1db9f",
   "metadata": {},
   "source": [
    "## Write a function to generate data and estimate paramers\n",
    "Assume completely random experiments"
   ]
  },
  {
   "cell_type": "code",
   "execution_count": 81,
   "id": "9e81c979",
   "metadata": {},
   "outputs": [],
   "source": [
    "def dgp(N=1000, p=0.5, w1=1, w2=5):\n",
    "    '''\n",
    "    N       sample size\n",
    "    p       probability of sample given w1 vs w2\n",
    "    w1,w2   w1 and w2 values\n",
    "    '''\n",
    "    data_out = pd.DataFrame()\n",
    "    data_out['w'] = w1 + (w2-w1)*np.random.choice(2, N, p=[1-p,p])\n",
    "    data_out.loc[(np.random.choice(2,N,p=[1-p/2, p/2])==1), 'w']=0\n",
    "    data_out['y'] = 2+ data_out['w'] + np.random.normal(0,1,N)\n",
    "    data_out['w1'] = (data_out['w']==w1).astype(float)\n",
    "    data_out['w2'] = (data_out['w']==w2).astype(float)\n",
    "    return data_out"
   ]
  },
  {
   "cell_type": "code",
   "execution_count": 69,
   "id": "c76a580c",
   "metadata": {},
   "outputs": [],
   "source": [
    "def ols_fe(data=None):\n",
    "    ols_fe_model = sm.OLS(data['y'], sm.add_constant(data[['w1','w2']])).fit()\n",
    "    return ols_fe_model\n",
    "\n",
    "def ols_co(data=None):\n",
    "    ols_co_model = sm.OLS(data['y'], sm.add_constant(data[['w']])).fit()\n",
    "    return ols_co_model"
   ]
  },
  {
   "cell_type": "code",
   "execution_count": 70,
   "id": "7f96cae7",
   "metadata": {},
   "outputs": [],
   "source": [
    "df = dgp(w1=1, w2=5)"
   ]
  },
  {
   "cell_type": "code",
   "execution_count": 71,
   "id": "ef33492c",
   "metadata": {},
   "outputs": [
    {
     "data": {
      "text/plain": [
       "5    410\n",
       "1    341\n",
       "0    249\n",
       "Name: w, dtype: int64"
      ]
     },
     "metadata": {},
     "output_type": "display_data"
    },
    {
     "data": {
      "text/html": [
       "<div>\n",
       "<style scoped>\n",
       "    .dataframe tbody tr th:only-of-type {\n",
       "        vertical-align: middle;\n",
       "    }\n",
       "\n",
       "    .dataframe tbody tr th {\n",
       "        vertical-align: top;\n",
       "    }\n",
       "\n",
       "    .dataframe thead th {\n",
       "        text-align: right;\n",
       "    }\n",
       "</style>\n",
       "<table border=\"1\" class=\"dataframe\">\n",
       "  <thead>\n",
       "    <tr style=\"text-align: right;\">\n",
       "      <th></th>\n",
       "      <th>count</th>\n",
       "      <th>mean</th>\n",
       "      <th>std</th>\n",
       "      <th>min</th>\n",
       "      <th>25%</th>\n",
       "      <th>50%</th>\n",
       "      <th>75%</th>\n",
       "      <th>max</th>\n",
       "    </tr>\n",
       "  </thead>\n",
       "  <tbody>\n",
       "    <tr>\n",
       "      <th>w</th>\n",
       "      <td>1000.0</td>\n",
       "      <td>2.391000</td>\n",
       "      <td>2.208845</td>\n",
       "      <td>0.000000</td>\n",
       "      <td>1.000000</td>\n",
       "      <td>1.000000</td>\n",
       "      <td>5.000000</td>\n",
       "      <td>5.000000</td>\n",
       "    </tr>\n",
       "    <tr>\n",
       "      <th>y</th>\n",
       "      <td>1000.0</td>\n",
       "      <td>4.388412</td>\n",
       "      <td>2.248534</td>\n",
       "      <td>0.578192</td>\n",
       "      <td>2.456033</td>\n",
       "      <td>3.320946</td>\n",
       "      <td>6.829573</td>\n",
       "      <td>8.355892</td>\n",
       "    </tr>\n",
       "    <tr>\n",
       "      <th>w1</th>\n",
       "      <td>1000.0</td>\n",
       "      <td>0.341000</td>\n",
       "      <td>0.474283</td>\n",
       "      <td>0.000000</td>\n",
       "      <td>0.000000</td>\n",
       "      <td>0.000000</td>\n",
       "      <td>1.000000</td>\n",
       "      <td>1.000000</td>\n",
       "    </tr>\n",
       "    <tr>\n",
       "      <th>w2</th>\n",
       "      <td>1000.0</td>\n",
       "      <td>0.410000</td>\n",
       "      <td>0.492079</td>\n",
       "      <td>0.000000</td>\n",
       "      <td>0.000000</td>\n",
       "      <td>0.000000</td>\n",
       "      <td>1.000000</td>\n",
       "      <td>1.000000</td>\n",
       "    </tr>\n",
       "  </tbody>\n",
       "</table>\n",
       "</div>"
      ],
      "text/plain": [
       "     count      mean       std       min       25%       50%       75%  \\\n",
       "w   1000.0  2.391000  2.208845  0.000000  1.000000  1.000000  5.000000   \n",
       "y   1000.0  4.388412  2.248534  0.578192  2.456033  3.320946  6.829573   \n",
       "w1  1000.0  0.341000  0.474283  0.000000  0.000000  0.000000  1.000000   \n",
       "w2  1000.0  0.410000  0.492079  0.000000  0.000000  0.000000  1.000000   \n",
       "\n",
       "         max  \n",
       "w   5.000000  \n",
       "y   8.355892  \n",
       "w1  1.000000  \n",
       "w2  1.000000  "
      ]
     },
     "metadata": {},
     "output_type": "display_data"
    }
   ],
   "source": [
    "display( df['w'].value_counts() )\n",
    "display(df.describe().T)\n"
   ]
  },
  {
   "cell_type": "markdown",
   "id": "5126d43c",
   "metadata": {},
   "source": [
    "## Now plot the standard error and estimates from interpolations and extrapolations\n",
    "\n",
    "We will start with single use cases for a single dataset, and then do a lot of simulations."
   ]
  },
  {
   "cell_type": "markdown",
   "id": "f0987b40",
   "metadata": {},
   "source": [
    "**Interpolations**"
   ]
  },
  {
   "cell_type": "code",
   "execution_count": 72,
   "id": "9d9443ee",
   "metadata": {},
   "outputs": [
    {
     "name": "stdout",
     "output_type": "stream",
     "text": [
      "GT values of w1=1 and w2=5\n",
      "Predicted interpolation point estimate and se: 3.02 [0.07]\n"
     ]
    }
   ],
   "source": [
    "print('GT values of w1={0} and w2={1}'.format(1,5))\n",
    "fe_result = ols_fe(data=df)\n",
    "\n",
    "fe_avg_coef = fe_result.params[['w1','w2']].mean()\n",
    "fe_avg_se = np.sqrt( fe_result.cov_params()['w1']['w1']+fe_result.cov_params()['w2']['w2']+2*fe_result.cov_params()['w1']['w2'] )\n",
    "print('Predicted interpolation point estimate and se: {0:3.2f} [{1:3.2f}]'.format(fe_avg_coef, fe_avg_se))"
   ]
  },
  {
   "cell_type": "code",
   "execution_count": 73,
   "id": "bc5f7bf9",
   "metadata": {},
   "outputs": [
    {
     "name": "stdout",
     "output_type": "stream",
     "text": [
      "GT values of w=1\n",
      "Predicted interpolation point estimate and se: 2.98 [0.06]\n"
     ]
    }
   ],
   "source": [
    "print('GT values of w={0}'.format(1))\n",
    "co_result = ols_co(data=df)\n",
    "\n",
    "co_avg_coef = co_result.params['w']*3\n",
    "co_avg_se =  co_result.bse['w']*(3**2)\n",
    "print('Predicted interpolation point estimate and se: {0:3.2f} [{1:3.2f}]'.format(co_avg_coef, co_avg_se))\n"
   ]
  },
  {
   "cell_type": "markdown",
   "id": "3734ab9e",
   "metadata": {},
   "source": [
    "**Extrapolations**"
   ]
  },
  {
   "cell_type": "code",
   "execution_count": 76,
   "id": "34e911b3",
   "metadata": {},
   "outputs": [
    {
     "name": "stdout",
     "output_type": "stream",
     "text": [
      "Extrapolate to 7.5\n",
      "Predicted extrapolation point estimate and se: 7.49 [0.09]\n"
     ]
    }
   ],
   "source": [
    "fe_avg_coef = fe_result.params['w2']*1.5\n",
    "fe_avg_se = fe_result.bse['w2']*(1.5**2)\n",
    "print('Extrapolate to {0}'.format(5*1.5))\n",
    "print('Predicted extrapolation point estimate and se: {0:3.2f} [{1:3.2f}]'.format(fe_avg_coef, fe_avg_se))"
   ]
  },
  {
   "cell_type": "code",
   "execution_count": 77,
   "id": "e2f377e0",
   "metadata": {},
   "outputs": [
    {
     "name": "stdout",
     "output_type": "stream",
     "text": [
      "Extrapolate to 7.5\n",
      "Predicted interpolation point estimate and se: 7.45 [0.08]\n"
     ]
    }
   ],
   "source": [
    "co_avg_coef = co_result.params['w']*5*1.5\n",
    "co_avg_se =  co_result.bse['w']*(5*1.5**2)\n",
    "print('Extrapolate to {0}'.format(5*1.5))\n",
    "print('Predicted interpolation point estimate and se: {0:3.2f} [{1:3.2f}]'.format(co_avg_coef, co_avg_se))\n"
   ]
  },
  {
   "cell_type": "markdown",
   "id": "d7f7c3d0",
   "metadata": {},
   "source": [
    "**Okay now run a lot of simulations and collect results**"
   ]
  },
  {
   "cell_type": "code",
   "execution_count": null,
   "id": "7f7d5386",
   "metadata": {},
   "outputs": [],
   "source": [
    "Srange=2000\n",
    "df_result = pd.DataFrame()\n",
    "for s_ in range(Srange):\n",
    "    df = dgp(w1=1, w2=5)\n",
    "    ## Train OLS models\n",
    "    fe_result = ols_fe(data=df)\n",
    "    co_result = ols_co(data=df)        \n",
    "        \n",
    "    ## Interpolations\n",
    "    fe_avg_coefA = fe_result.params[['w1','w2']].mean()\n",
    "    fe_avg_seA = np.sqrt( fe_result.cov_params()['w1']['w1']+fe_result.cov_params()['w2']['w2']+2*fe_result.cov_params()['w1']['w2'] )\n",
    "    \n",
    "    co_avg_coefA = co_result.params['w']*3\n",
    "    co_avg_seA =  co_result.bse['w']*(3**2)\n",
    "\n",
    "    ## Extrapolations\n",
    "    fe_avg_coefB = fe_result.params['w2']*1.5\n",
    "    fe_avg_seB = fe_result.bse['w2']*(1.5**2)\n",
    "\n",
    "    co_avg_coefB = co_result.params['w']*5*1.5\n",
    "    co_avg_seB =  co_result.bse['w']*(5*1.5**2)\n",
    "    \n",
    "    out = pd.DataFrame(index=[s_],\n",
    "                        data={'inter_fe_coef':fe_avg_coefA, 'inter_fe_se':fe_avg_seA\n",
    "                            ,'extra_fe_coef':fe_avg_coefB, 'extra_fe_se':fe_avg_seB\n",
    "                            ,'inter_co_coef':co_avg_coefA, 'inter_co_se':co_avg_seA\n",
    "                            ,'extra_co_coef':co_avg_coefB, 'extra_co_se':co_avg_seB})\n",
    "    df_result=pd.concat([df_result, out])"
   ]
  },
  {
   "cell_type": "code",
   "execution_count": null,
   "id": "f75e4966",
   "metadata": {},
   "outputs": [],
   "source": []
  },
  {
   "cell_type": "code",
   "execution_count": 130,
   "id": "81f44d9a",
   "metadata": {},
   "outputs": [
    {
     "data": {
      "text/html": [
       "<div>\n",
       "<style scoped>\n",
       "    .dataframe tbody tr th:only-of-type {\n",
       "        vertical-align: middle;\n",
       "    }\n",
       "\n",
       "    .dataframe tbody tr th {\n",
       "        vertical-align: top;\n",
       "    }\n",
       "\n",
       "    .dataframe thead th {\n",
       "        text-align: right;\n",
       "    }\n",
       "</style>\n",
       "<table border=\"1\" class=\"dataframe\">\n",
       "  <thead>\n",
       "    <tr style=\"text-align: right;\">\n",
       "      <th></th>\n",
       "      <th>inter_fe_coef</th>\n",
       "      <th>inter_fe_se</th>\n",
       "      <th>extra_fe_coef</th>\n",
       "      <th>extra_fe_se</th>\n",
       "      <th>inter_co_coef</th>\n",
       "      <th>inter_co_se</th>\n",
       "      <th>extra_co_coef</th>\n",
       "      <th>extra_co_se</th>\n",
       "      <th>cir_inter_fe_se</th>\n",
       "      <th>cir_extra_fe_se</th>\n",
       "      <th>cir_inter_co_se</th>\n",
       "      <th>cir_extra_co_se</th>\n",
       "    </tr>\n",
       "  </thead>\n",
       "  <tbody>\n",
       "    <tr>\n",
       "      <th>count</th>\n",
       "      <td>863.000000</td>\n",
       "      <td>863.000000</td>\n",
       "      <td>863.000000</td>\n",
       "      <td>863.000000</td>\n",
       "      <td>863.000000</td>\n",
       "      <td>863.000000</td>\n",
       "      <td>863.000000</td>\n",
       "      <td>863.000000</td>\n",
       "      <td>863.000000</td>\n",
       "      <td>863.000000</td>\n",
       "      <td>863.000000</td>\n",
       "      <td>863.000000</td>\n",
       "    </tr>\n",
       "    <tr>\n",
       "      <th>mean</th>\n",
       "      <td>3.002356</td>\n",
       "      <td>0.146170</td>\n",
       "      <td>7.507125</td>\n",
       "      <td>0.183731</td>\n",
       "      <td>3.003158</td>\n",
       "      <td>0.131381</td>\n",
       "      <td>7.507896</td>\n",
       "      <td>0.164226</td>\n",
       "      <td>0.572987</td>\n",
       "      <td>0.720225</td>\n",
       "      <td>0.515014</td>\n",
       "      <td>0.643767</td>\n",
       "    </tr>\n",
       "    <tr>\n",
       "      <th>std</th>\n",
       "      <td>0.072924</td>\n",
       "      <td>0.004091</td>\n",
       "      <td>0.127099</td>\n",
       "      <td>0.004875</td>\n",
       "      <td>0.045729</td>\n",
       "      <td>0.003182</td>\n",
       "      <td>0.114322</td>\n",
       "      <td>0.003977</td>\n",
       "      <td>0.016037</td>\n",
       "      <td>0.019110</td>\n",
       "      <td>0.012473</td>\n",
       "      <td>0.015592</td>\n",
       "    </tr>\n",
       "    <tr>\n",
       "      <th>min</th>\n",
       "      <td>2.754131</td>\n",
       "      <td>0.132736</td>\n",
       "      <td>7.014202</td>\n",
       "      <td>0.166299</td>\n",
       "      <td>2.834165</td>\n",
       "      <td>0.120320</td>\n",
       "      <td>7.085412</td>\n",
       "      <td>0.150400</td>\n",
       "      <td>0.520326</td>\n",
       "      <td>0.651894</td>\n",
       "      <td>0.471656</td>\n",
       "      <td>0.589570</td>\n",
       "    </tr>\n",
       "    <tr>\n",
       "      <th>25%</th>\n",
       "      <td>2.950606</td>\n",
       "      <td>0.143384</td>\n",
       "      <td>7.419781</td>\n",
       "      <td>0.180643</td>\n",
       "      <td>2.970806</td>\n",
       "      <td>0.129328</td>\n",
       "      <td>7.427016</td>\n",
       "      <td>0.161661</td>\n",
       "      <td>0.562066</td>\n",
       "      <td>0.708119</td>\n",
       "      <td>0.506967</td>\n",
       "      <td>0.633709</td>\n",
       "    </tr>\n",
       "    <tr>\n",
       "      <th>50%</th>\n",
       "      <td>2.999551</td>\n",
       "      <td>0.146184</td>\n",
       "      <td>7.500945</td>\n",
       "      <td>0.183804</td>\n",
       "      <td>3.002144</td>\n",
       "      <td>0.131284</td>\n",
       "      <td>7.505360</td>\n",
       "      <td>0.164105</td>\n",
       "      <td>0.573041</td>\n",
       "      <td>0.720511</td>\n",
       "      <td>0.514633</td>\n",
       "      <td>0.643291</td>\n",
       "    </tr>\n",
       "    <tr>\n",
       "      <th>75%</th>\n",
       "      <td>3.047866</td>\n",
       "      <td>0.148975</td>\n",
       "      <td>7.593348</td>\n",
       "      <td>0.187033</td>\n",
       "      <td>3.035504</td>\n",
       "      <td>0.133538</td>\n",
       "      <td>7.588759</td>\n",
       "      <td>0.166923</td>\n",
       "      <td>0.583980</td>\n",
       "      <td>0.733170</td>\n",
       "      <td>0.523471</td>\n",
       "      <td>0.654338</td>\n",
       "    </tr>\n",
       "    <tr>\n",
       "      <th>max</th>\n",
       "      <td>3.277033</td>\n",
       "      <td>0.158352</td>\n",
       "      <td>8.036437</td>\n",
       "      <td>0.197618</td>\n",
       "      <td>3.181099</td>\n",
       "      <td>0.140784</td>\n",
       "      <td>7.952747</td>\n",
       "      <td>0.175979</td>\n",
       "      <td>0.620739</td>\n",
       "      <td>0.774662</td>\n",
       "      <td>0.551872</td>\n",
       "      <td>0.689840</td>\n",
       "    </tr>\n",
       "  </tbody>\n",
       "</table>\n",
       "</div>"
      ],
      "text/plain": [
       "       inter_fe_coef  inter_fe_se  extra_fe_coef  extra_fe_se  inter_co_coef  \\\n",
       "count     863.000000   863.000000     863.000000   863.000000     863.000000   \n",
       "mean        3.002356     0.146170       7.507125     0.183731       3.003158   \n",
       "std         0.072924     0.004091       0.127099     0.004875       0.045729   \n",
       "min         2.754131     0.132736       7.014202     0.166299       2.834165   \n",
       "25%         2.950606     0.143384       7.419781     0.180643       2.970806   \n",
       "50%         2.999551     0.146184       7.500945     0.183804       3.002144   \n",
       "75%         3.047866     0.148975       7.593348     0.187033       3.035504   \n",
       "max         3.277033     0.158352       8.036437     0.197618       3.181099   \n",
       "\n",
       "       inter_co_se  extra_co_coef  extra_co_se  cir_inter_fe_se  \\\n",
       "count   863.000000     863.000000   863.000000       863.000000   \n",
       "mean      0.131381       7.507896     0.164226         0.572987   \n",
       "std       0.003182       0.114322     0.003977         0.016037   \n",
       "min       0.120320       7.085412     0.150400         0.520326   \n",
       "25%       0.129328       7.427016     0.161661         0.562066   \n",
       "50%       0.131284       7.505360     0.164105         0.573041   \n",
       "75%       0.133538       7.588759     0.166923         0.583980   \n",
       "max       0.140784       7.952747     0.175979         0.620739   \n",
       "\n",
       "       cir_extra_fe_se  cir_inter_co_se  cir_extra_co_se  \n",
       "count       863.000000       863.000000       863.000000  \n",
       "mean          0.720225         0.515014         0.643767  \n",
       "std           0.019110         0.012473         0.015592  \n",
       "min           0.651894         0.471656         0.589570  \n",
       "25%           0.708119         0.506967         0.633709  \n",
       "50%           0.720511         0.514633         0.643291  \n",
       "75%           0.733170         0.523471         0.654338  \n",
       "max           0.774662         0.551872         0.689840  "
      ]
     },
     "execution_count": 130,
     "metadata": {},
     "output_type": "execute_result"
    }
   ],
   "source": [
    "for x in ['inter_fe_se','extra_fe_se','inter_co_se','extra_co_se']:\n",
    "    df_result['cir_{0}'.format(x)] = 2*1.96*df_result[x]\n",
    "df_result.describe()"
   ]
  },
  {
   "cell_type": "code",
   "execution_count": 133,
   "id": "ade51329",
   "metadata": {},
   "outputs": [],
   "source": [
    "def histogram_plot(inter_type='inter', custom_title=None):\n",
    "    fig,ax = plt.subplots(ncols=2,nrows=1,figsize=(8,3), sharey=True)\n",
    "    for x in ['fe','co']:\n",
    "        if x=='fe':\n",
    "            desc = 'Fixed Effects'\n",
    "        else:\n",
    "            desc = 'Continuous'\n",
    "        di3=ax[0].hist(df_result['{1}_{0}_coef'.format(x,inter_type)], label=desc, alpha=0.45)\n",
    "        ax[1].hist(df_result['cir_{1}_{0}_se'.format(x,inter_type)], label=desc, alpha=0.45)\n",
    "        ax[0].legend(title='Treatment Arms\\n Modeled as')\n",
    "        ax[1].legend(title='Treatment Arms\\n Modeled as')\n",
    "    ax[0].set_title('Distribution of Coefficients')    \n",
    "    ax[1].set_title('Distribution of 95% Confidence Interval')    \n",
    "    fig.suptitle(custom_title)\n",
    "    fig.tight_layout(h_pad=2)\n",
    "    plt.show()\n"
   ]
  },
  {
   "cell_type": "code",
   "execution_count": 134,
   "id": "73f7bf16",
   "metadata": {},
   "outputs": [
    {
     "data": {
      "image/png": "[encoded data removed]",
      "text/plain": [
       "<Figure size 800x300 with 2 Axes>"
      ]
     },
     "metadata": {},
     "output_type": "display_data"
    }
   ],
   "source": [
    "histogram_plot(inter_type='inter', custom_title='Interpolating Impact Between Two Treatment Arms')\n"
   ]
  },
  {
   "cell_type": "code",
   "execution_count": 135,
   "id": "2c463d6c",
   "metadata": {},
   "outputs": [
    {
     "data": {
      "image/png": "[encoded data removed]",
      "text/plain": [
       "<Figure size 800x300 with 2 Axes>"
      ]
     },
     "metadata": {},
     "output_type": "display_data"
    }
   ],
   "source": [
    "histogram_plot(inter_type='extra', custom_title='Extrapolating from Two Treatment Arms')"
   ]
  },
  {
   "cell_type": "markdown",
   "id": "30c4cc9f",
   "metadata": {},
   "source": []
  },
  {
   "cell_type": "code",
   "execution_count": null,
   "id": "dadb5d70",
   "metadata": {},
   "outputs": [],
   "source": []
  }
 ],
 "metadata": {
  "kernelspec": {
   "display_name": "Python 3 (ipykernel)",
   "language": "python",
   "name": "python3"
  },
  "language_info": {
   "codemirror_mode": {
    "name": "ipython",
    "version": 3
   },
   "file_extension": ".py",
   "mimetype": "text/x-python",
   "name": "python",
   "nbconvert_exporter": "python",
   "pygments_lexer": "ipython3",
   "version": "3.9.13"
  }
 },
 "nbformat": 4,
 "nbformat_minor": 5
}
