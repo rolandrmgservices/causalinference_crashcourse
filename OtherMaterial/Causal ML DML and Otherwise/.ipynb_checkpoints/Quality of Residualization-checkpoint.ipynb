{
 "cells": [
  {
   "cell_type": "markdown",
   "id": "8073009d",
   "metadata": {},
   "source": [
    "# Quality of Residualization\n",
    "Julian Hsu\n",
    "13-aug-2023\n",
    "\n",
    "We use this notebook to understand how the quality of residualization affects treatment estimates. We measure the quality of residualization with how well we can predict the outcome and treatment features. We use notation from Chernozhukov et al (2016) [Double-De-biased ML paper](https://arxiv.org/pdf/1608.00060.pdf). Specifically, we estimate two partial linear models using the residualized outcome, $\\tilde{Y}_i = Y_i - g_0(X_i)$, and the residualized treatment, $\\tilde{W}_i = W_i - m_0(X_i)$:\n",
    "\n",
    "$$ \\tilde{Y}_i = \\tau W_i + \\epsilon_i \\hspace{5cm} (EQ 1) $$\n",
    "$$ \\tilde{Y}_i = \\tau \\tilde{W}_i + \\eta_i \\hspace{5cm} (EQ 2) $$\n",
    "\n",
    "we first estimate $Y$ using a given ML model $g_0$, and then estimate an OLS regression of $Y_i - \\hat{Y_i}(X_i) = \\beta_0 + \\tau W_i + \\epsilon_i$. \n"
   ]
  },
  {
   "cell_type": "code",
   "execution_count": 35,
   "id": "e51e768c",
   "metadata": {},
   "outputs": [],
   "source": [
    "import numpy as np\n",
    "import pandas as pd\n",
    "\n",
    "%matplotlib inline\n",
    "\n",
    "import matplotlib\n",
    "import matplotlib.pyplot as plt\n",
    "import seaborn as sns\n",
    "\n",
    "from sklearn.linear_model import LogisticRegression, LinearRegression, Ridge\n",
    "from sklearn.ensemble import RandomForestClassifier, RandomForestRegressor\n",
    "from sklearn.metrics import r2_score\n",
    "\n"
   ]
  },
  {
   "cell_type": "markdown",
   "id": "57748cb0",
   "metadata": {},
   "source": [
    "## Write DGP Functions\n",
    "Write a DGP function with a treatment indicator and confounding features.\n",
    "\n",
    "The treatment effect will be a standard deviation of the potential control outcome."
   ]
  },
  {
   "cell_type": "code",
   "execution_count": 113,
   "id": "abcceab2",
   "metadata": {},
   "outputs": [],
   "source": [
    "def dgp(N=1000,K=3,ate_sd = 0.1\n",
    "       , non_linear_degree=0\n",
    "       , log = False):\n",
    "    '''\n",
    "    N  number of rows\n",
    "    K  number of confounding variables\n",
    "    ate_sd  the impact in standard deviations of the outcome\n",
    "    non_linear_degree  what degree polynomial complexity we allow in outcome and treatment.\n",
    "    log  whether we take the log of the feature\n",
    "    '''\n",
    "    \n",
    "    df_out = pd.DataFrame()\n",
    "    ## Create covariates\n",
    "    for k in range(K):\n",
    "        df_out['x{0:1.0f}'.format(k)] = np.random.uniform(1,3,N)\n",
    "            \n",
    "    if log==True:\n",
    "        df_x_features = np.log(df_out[[e for e in df_out.columns if 'x' in e]])\n",
    "    else:\n",
    "        df_x_features = df_out[[e for e in df_out.columns if 'x' in e]]\n",
    "\n",
    "    ## Create treatment indicator\n",
    "    t_array = np.random.uniform(-2,2,K) \n",
    "    w_latent = np.dot(df_x_features, t_array)    \n",
    "    if non_linear_degree <= 1:\n",
    "        pass\n",
    "    else:\n",
    "        t_array0 = np.random.uniform(-2,2,K) \n",
    "        test_w=np.dot(df_x_features.pow(non_linear_degree), t_array0)        \n",
    "        w_latent = w_latent + test_w\n",
    "    ## Scale this down for easier computation\n",
    "    w_latent /= np.var(w_latent)\n",
    "    w_latent /= np.abs(np.mean(w_latent))\n",
    "    w_latent = np.exp(w_latent) / (1+ np.exp(w_latent))  + np.random.uniform(0,1,N)\n",
    "    df_out['w'] = ( w_latent > np.percentile(w_latent, q=50) ).astype(float)\n",
    "    \n",
    "    ## Create outcome \n",
    "    y_array = np.random.uniform(-0.5,0.5,K)     \n",
    "    df_out['y'] = np.dot(df_x_features, y_array)\n",
    "    if non_linear_degree <= 1:\n",
    "        pass\n",
    "    else:\n",
    "        y_array0 = np.random.uniform(-2,2,K) \n",
    "        test_x = np.dot(df_x_features.pow(non_linear_degree), y_array0)  \n",
    "        df_out['y'] = df_out['y'] + test_x\n",
    "        df_out['test_x'] = test_x\n",
    "    \n",
    "    df_out['y'] += np.random.normal(0,2,N)\n",
    "\n",
    "    ate_to_use = ate_sd * df_out['y'].std()\n",
    "    df_out['y'] += df_out['w']*ate_to_use\n",
    "    \n",
    "    ## Scale this down for easier computation    \n",
    "    df_out['y'] /= np.mean(df_out['y'])\n",
    "        \n",
    "    \n",
    "    df_out['gt'] = ate_to_use\n",
    "    \n",
    "    return df_out"
   ]
  },
  {
   "cell_type": "code",
   "execution_count": 114,
   "id": "35960f75",
   "metadata": {},
   "outputs": [],
   "source": [
    "from sklearn import metrics"
   ]
  },
  {
   "cell_type": "code",
   "execution_count": 115,
   "id": "10b31ad8",
   "metadata": {},
   "outputs": [],
   "source": [
    "## Estimate the treatment effect with sample-splitting\n",
    "## Also output the MAPE of outcome and treatment predictions\n",
    "def dml_estimate(data=None,X_list=None\n",
    "                , model_y=Ridge(alpha=1, fit_intercept=True)\n",
    "                , model_t=LogisticRegression(penalty='l2', C=1, fit_intercept=True)):\n",
    "    ml_t_model = model_t.fit(X=data[X_list], y = data['w'] )        \n",
    "    w_predictions = ml_t_model.predict_proba(data[X_list])[:,1].reshape(-1,1)\n",
    "    W = np.array(data['w']).reshape(-1,1) - w_predictions\n",
    "    \n",
    "    ml_model = model_y.fit(X=data[X_list], y = data['y'] )    \n",
    "    y_predictions = ml_model.predict(data[X_list])\n",
    "    YM = data['y'] - y_predictions\n",
    "\n",
    "    ## DML Estimate from PLM Model\n",
    "    \n",
    "    ols_model_r = LinearRegression(fit_intercept=True).fit(X=W, y = YM)\n",
    "        \n",
    "        \n",
    "    ## MAPE of the predictions and output\n",
    "    y_score=metrics.mean_squared_error(y_true=data['y'], y_pred=y_predictions)\n",
    "    w_score=metrics.roc_auc_score(y_true=data['w'], y_score=w_predictions)\n",
    "    \n",
    "    return ols_model_r.coef_[-1], y_score, w_score"
   ]
  },
  {
   "cell_type": "code",
   "execution_count": 116,
   "id": "af0c8cc7",
   "metadata": {},
   "outputs": [
    {
     "name": "stdout",
     "output_type": "stream",
     "text": [
      "Ground Truth Impact: 1.069\n",
      "DML Estimate: 26.468\n",
      "Y MSE:891.117, W MSE: 0.508\n"
     ]
    }
   ],
   "source": [
    "## Test run to check that the code works\n",
    "bias = []\n",
    "for s in range(200):\n",
    "    df = dgp(N=100, K=1, ate_sd = 0.5, non_linear_degree=1)\n",
    "    a= dml_estimate(data=df,X_list=['x0'] \n",
    "                    , model_y=Ridge(alpha=1, fit_intercept=True)\n",
    "                    , model_t=LogisticRegression(penalty='l2', C=1, fit_intercept=True) )\n",
    "    if s==0:\n",
    "        print('Ground Truth Impact: {0:5.3f}'.format(df['gt'][0]))\n",
    "        print('DML Estimate: {0:5.3f}'.format(a[0]))\n",
    "        print('Y MSE:{0:5.3f}, W MSE: {1:5.3f}'.format(a[1],a[2]))\n",
    "    bias.append(df['gt'][0] - a[0])"
   ]
  },
  {
   "cell_type": "code",
   "execution_count": 117,
   "id": "ec5d2a5d",
   "metadata": {},
   "outputs": [
    {
     "data": {
      "text/plain": [
       "(array([  1.,   1.,   0.,   0.,   1.,   0.,   2.,  15., 174.,   6.]),\n",
       " array([-174.35420104, -153.05231468, -131.75042832, -110.44854195,\n",
       "         -89.14665559,  -67.84476923,  -46.54288286,  -25.2409965 ,\n",
       "          -3.93911014,   17.36277623,   38.66466259]),\n",
       " <BarContainer object of 10 artists>)"
      ]
     },
     "execution_count": 117,
     "metadata": {},
     "output_type": "execute_result"
    },
    {
     "data": {
      "image/png": "[encoded data removed]",
      "text/plain": [
       "<Figure size 640x480 with 1 Axes>"
      ]
     },
     "metadata": {},
     "output_type": "display_data"
    }
   ],
   "source": [
    "plt.hist(bias)"
   ]
  },
  {
   "cell_type": "markdown",
   "id": "803028eb",
   "metadata": {},
   "source": [
    "## Simulations Demonstrating Relationship between Fit and Bias\n"
   ]
  },
  {
   "cell_type": "code",
   "execution_count": null,
   "id": "39264079",
   "metadata": {},
   "outputs": [],
   "source": [
    "df_results = pd.DataFrame()\n",
    "Stimes = 100\n",
    "degree_complexity_list = [1,5]\n",
    "for deg in degree_complexity_list:\n",
    "    for s in range(Stimes):\n",
    "        df = dgp(N=2000, K=2, ate_sd = 0.5, non_linear_degree=deg)\n",
    "\n",
    "        dml_result = dml_estimate(data=df, X_list=['x0','x1']\n",
    "                , model_y=LinearRegression()\n",
    "                , model_t=LogisticRegression(penalty='none') )\n",
    "        gt = df['gt'][0]\n",
    "        entry = pd.DataFrame(index=[s]\n",
    "                    , data=dict(zip(['estimate','y_mse','w_roc_auc'],dml_result)))\n",
    "        entry['complexity']=deg\n",
    "        entry['gt']=gt\n",
    "        df_results = pd.concat([df_results, entry  ])\n"
   ]
  },
  {
   "cell_type": "code",
   "execution_count": null,
   "id": "bf26347a",
   "metadata": {},
   "outputs": [],
   "source": [
    "df_results['bias'] = df_results['estimate'] - df_results['gt']        \n",
    "df_results['bias_mape'] = np.abs(df_results['estimate'] - df_results['gt']/df_results['gt']  )"
   ]
  },
  {
   "cell_type": "markdown",
   "id": "bf825276",
   "metadata": {},
   "source": [
    "Normalized the MSE and ROC AUC scores"
   ]
  },
  {
   "cell_type": "code",
   "execution_count": null,
   "id": "21498d0f",
   "metadata": {},
   "outputs": [],
   "source": [
    "for s in ['y_mse','w_roc_auc']:\n",
    "    if s=='w_roc_auc':\n",
    "        df_results[s+'_perc'] = np.abs(df_results[s]).rank(pct=True, ascending=True, method='max')\n",
    "    else:\n",
    "        df_results[s+'_perc'] = np.abs(df_results[s]).rank(pct=True, ascending=False, method='max')\n",
    "    \n",
    "    \n",
    "#     df_results[s] = (df_results[s] - df_results[s].mean()) / df_results[s].std()"
   ]
  },
  {
   "cell_type": "code",
   "execution_count": null,
   "id": "57df048b",
   "metadata": {},
   "outputs": [],
   "source": [
    "df_results[['bias','bias_mape','y_mse','w_roc_auc']].corr()"
   ]
  },
  {
   "cell_type": "code",
   "execution_count": null,
   "id": "c779eb7d",
   "metadata": {},
   "outputs": [],
   "source": [
    "\n",
    "def plot_corr_data(xe=None, ye=None ,axes=None, plot_color=None):\n",
    "    lr_fit = LinearRegression(fit_intercept=True).fit(np.array(xe).reshape(-1, 1) , ye) \n",
    "    x_predict= np.array([np.min(xe), np\n",
    "                .max(xe)]).reshape(-1,1)\n",
    "    y_predict=lr_fit.predict( x_predict )\n",
    "    axes.plot(x_predict, y_predict, color='black', linewidth=5, linestyle='--', alpha=1)\n"
   ]
  },
  {
   "cell_type": "code",
   "execution_count": null,
   "id": "8d019e5f",
   "metadata": {},
   "outputs": [],
   "source": [
    "import matplotlib.pyplot as plt\n",
    "plt.rcParams.update({'font.size': 14})\n",
    "\n",
    "for deg in enumerate(degree_complexity_list):\n",
    "    fig,ax = plt.subplots(ncols=2,nrows=1,figsize=(10,5), sharey=True)\n",
    "    plot_ = df_results.loc[(df_results['complexity']==deg[1]) ]\n",
    "\n",
    "    ## Remove rows with the 2 highest mse values\n",
    "    plot_ = plot_.sort_values(by=['y_mse_perc'],ascending=False)[2:]\n",
    "    plot_ = plot_.sort_values(by=['w_roc_auc_perc'],ascending=False)[2:]\n",
    "    plot_ = plot_.sort_values(by=['bias'],ascending=False)[2:]\n",
    "\n",
    "    plot_['bias'] = np.abs(plot_['bias'])\n",
    "\n",
    "    at0=ax[0].scatter(y=plot_['bias'], x=plot_['y_mse_perc'], alpha=0.75, color='royalblue',label='Outcome (MSE)')\n",
    "#     plot_corr_data(xe=plot_['y_mse_perc'], ye=plot_['bias'], axes=ax[0], plot_color=at0.get_edgecolor())\n",
    "    ax[0].set_title('Prediction Performance\\n of Outcome (MSE)', color='white')\n",
    "    \n",
    "    at1=ax[1].scatter(y=plot_['bias'], x=plot_['w_roc_auc_perc'], alpha=0.75, color='seagreen', label='Treatment (ROC AUC)')\n",
    "#     plot_corr_data(xe=plot_['w_roc_auc_perc'], ye=plot_['bias'], axes=ax[1], plot_color=at1.get_edgecolor())\n",
    "    ax[1].set_title('Prediction Performance\\n of Treatment (ROC-AUC)', color='white')\n",
    "    \n",
    "#     ax[deg[0],1].legend( bbox_to_anchor=(1.04, 1), loc=\"upper left\", fancybox=True)\n",
    "#     ax[deg[0],1].legend( bbox_to_anchor=(1.04, 1), loc=\"upper left\", fancybox=True)\n",
    "    \n",
    "    for e in range(2):\n",
    "        ax[e].set_xlabel('Prediction Performance')\n",
    "        ax[e].set_xticks([0.1, 0.5, 0.9])\n",
    "        ax[e].set_xticklabels(['low','medium','high'])    \n",
    "        ax[e].set_ylabel(r'Bias')\n",
    "        ax[e].set_facecolor('lightyellow')\n",
    "        ax[e].grid()\n",
    "        ax[e].xaxis.label.set_color('white')\n",
    "        ax[e].yaxis.label.set_color('white')\n",
    "        ax[e].tick_params(axis='x', colors='white')\n",
    "        ax[e].tick_params(axis='y', colors='white')\n",
    "\n",
    "    \n",
    "#     fig.suptitle(r'Scatterplots of treatment effect biases\\n on outcome and treatment prediction performance\\n results from a DML model using unpenalized linear regression and logistic regression to residualize.', color='white')\n",
    "    \n",
    "    if deg[1]<=1:\n",
    "        fig.suptitle(r'Data generated as $y \\sim w, x$'.format(deg[1]), color='white')\n",
    "    else:\n",
    "        fig.suptitle(r'Data generated as $y \\sim w, x, x^{0}$'.format(deg[1]), color='white')\n",
    "\n",
    "        \n",
    "    \n",
    "    plt.tight_layout()\n",
    "    fig.set_facecolor('maroon')\n",
    "    \n",
    "    "
   ]
  },
  {
   "cell_type": "markdown",
   "id": "fe894f41",
   "metadata": {},
   "source": [
    "**sound byte** How important is it to iterate on the prediction parts of your double machine learnin (DML) model? I show with simulation evidence that there are diminishing returns to improving your prediction models. I show here the relationship between better predicting the outcome and treatment indicator and bias of the DML estimate. As expected, improving your prediction reduces the bias of your estimate. However, I find that there are greater benefits from reducing variation in your outcome variable. Note in these simulation have selection bias: treatment is not randomly assigned.\n",
    "\n",
    "I'm curious how others view this, especially since residualization in only the outcome or treatment leads to bias as I find here ( [post](https://www.linkedin.com/posts/jhsuecon_causalinference-machinelearning-activity-7087083617868263424-EmCo?utm_source=share&utm_medium=member_desktop) / [notebook](https://github.com/shoepaladin/causalinference_crashcourse/blob/main/OtherMaterial/Causal%20ML%20DML%20and%20Otherwise/Causal%20Inference%20versus%20Prediction%20in%20Linear%20Regression%20Models.ipynb) ). \n",
    "\n",
    "Check out the notebook used to generate it here!\n"
   ]
  }
 ],
 "metadata": {
  "kernelspec": {
   "display_name": "Python 3 (ipykernel)",
   "language": "python",
   "name": "python3"
  },
  "language_info": {
   "codemirror_mode": {
    "name": "ipython",
    "version": 3
   },
   "file_extension": ".py",
   "mimetype": "text/x-python",
   "name": "python",
   "nbconvert_exporter": "python",
   "pygments_lexer": "ipython3",
   "version": "3.9.13"
  }
 },
 "nbformat": 4,
 "nbformat_minor": 5
}
