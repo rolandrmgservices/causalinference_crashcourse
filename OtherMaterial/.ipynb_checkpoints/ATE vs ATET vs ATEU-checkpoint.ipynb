{
 "cells": [
  {
   "cell_type": "markdown",
   "id": "3bfa37ee",
   "metadata": {},
   "source": [
    "# ATE vs ATET vs ATEU\n",
    "Julian Hsu\n",
    "30-july-2023\n",
    "\n",
    "\n",
    "The purpose of this script is to demonstrate the difference between the Average Treatment Effect (ATE), Average Treatment Effect on the Treated (ATET), and Average Treatment Effect on the Untreated (ATEU). \n",
    "\n",
    "We will "
   ]
  },
  {
   "cell_type": "code",
   "execution_count": 73,
   "id": "a69cef41",
   "metadata": {},
   "outputs": [],
   "source": [
    "import numpy as np\n",
    "import pandas as pd\n",
    "import statsmodels.api as sm\n",
    "\n",
    "\n",
    "%matplotlib inline\n",
    "\n",
    "import matplotlib\n",
    "import matplotlib.pyplot as plt\n",
    "\n",
    "from sklearn.linear_model import LogisticRegression, LinearRegression, Ridge\n",
    "from sklearn.ensemble import RandomForestClassifier, RandomForestRegressor\n",
    "from sklearn.model_selection import cross_val_predict\n",
    "\n",
    "import stnomics as st\n"
   ]
  },
  {
   "cell_type": "markdown",
   "id": "450e4156",
   "metadata": {},
   "source": [
    "## DGP Functions"
   ]
  },
  {
   "cell_type": "code",
   "execution_count": 64,
   "id": "f2552775",
   "metadata": {},
   "outputs": [],
   "source": [
    "def dgp(N=1000, at_mean=1):\n",
    "    ## Initialize data frame of covariates\n",
    "    data=pd.DataFrame(\n",
    "        data={'x0':np.random.uniform(0,1,N)\n",
    "             ,'x1':np.random.uniform(0,1,N)})\n",
    "    x_list = [d for d in data.columns if 'x' in d]\n",
    "        \n",
    "    ## Determine the baseline outcome\n",
    "    y0 = np.dot(data[x_list]\n",
    "                              ,np.random.uniform(1,3,len(x_list)) )\n",
    "    y0 += np.random.normal(0,0.25, N)\n",
    "    \n",
    "    ## Determine the impact which is correlated with the baseline outcome\n",
    "    at = np.random.normal(at_mean,1, N)\n",
    "    \n",
    "    ## Determine treatment indicator\n",
    "    ## based on the baseline outcome and impact and noise\n",
    "    data['w'] = (np.exp(y0 + at) / (1+np.exp(y0+at)) + np.random.uniform(-1,1,N) > 1 ).astype(float)\n",
    "\n",
    "    ## Calculate observed outcome\n",
    "    y_obs = np.dot(data[x_list]\n",
    "                              ,np.random.uniform(-1,1,len(x_list)) )\\\n",
    "            + np.random.normal(0,0.25,N)\n",
    "    y_obs += data['w']*at\n",
    "    data['y'] = y_obs\n",
    "    data['at'] = at\n",
    "    data['y0'] = y0\n",
    "    \n",
    "    return data\n",
    "    "
   ]
  },
  {
   "cell_type": "markdown",
   "id": "dbc41d5e",
   "metadata": {},
   "source": [
    "## Simulate different iterations to show that OLS estimates the ATET\n"
   ]
  },
  {
   "cell_type": "code",
   "execution_count": 89,
   "id": "9730005b",
   "metadata": {},
   "outputs": [],
   "source": [
    "atu_list=[]\n",
    "att_list=[]\n",
    "ate_list=[]\n",
    "ols_est = []\n",
    "sim_times = 10\n",
    "for s in range(sim_times):\n",
    "    df= dgp()\n",
    "    X = sm.add_constant(df[['x0','x1','w']])\n",
    "    ols_fit = sm.OLS( df['y'], X).fit()\n",
    "    ols_estimate = ols_fit.params['w']\n",
    "    true_atu = df.loc[df['w']==0]['at'].mean()\n",
    "    true_att = df.loc[df['w']==1]['at'].mean()\n",
    "    true_ate = df['at'].mean()\n",
    "    # df.groupby('w')['at'].describe()\n",
    "    atu_list.append(true_atu)\n",
    "    att_list.append(true_att)\n",
    "    ate_list.append(true_ate)\n",
    "    ols_est.append(ols_estimate)"
   ]
  },
  {
   "cell_type": "code",
   "execution_count": 86,
   "id": "9761e93f",
   "metadata": {},
   "outputs": [],
   "source": []
  },
  {
   "cell_type": "code",
   "execution_count": null,
   "id": "564d7c33",
   "metadata": {},
   "outputs": [],
   "source": []
  }
 ],
 "metadata": {
  "kernelspec": {
   "display_name": "Python 3 (ipykernel)",
   "language": "python",
   "name": "python3"
  },
  "language_info": {
   "codemirror_mode": {
    "name": "ipython",
    "version": 3
   },
   "file_extension": ".py",
   "mimetype": "text/x-python",
   "name": "python",
   "nbconvert_exporter": "python",
   "pygments_lexer": "ipython3",
   "version": "3.9.13"
  }
 },
 "nbformat": 4,
 "nbformat_minor": 5
}
