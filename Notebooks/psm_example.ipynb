{
 "cells": [
  {
   "cell_type": "markdown",
   "id": "83dc1843-af86-4b19-b672-90c1c388b49b",
   "metadata": {},
   "source": [
    "# Matching and Balance Measures\n",
    "\n",
    "This simple example demonstrates how to use the R MatchIt and Cobalt packages from within python.  This follows the example described at: https://github.com/cran/cobalt.\n",
    "\n",
    "The ability to assess balance on covariate distributions is helpful when using propensity score matching to estimate causal effects of treatments.\n",
    "\n",
    "For an introduction, see: https://ngreifer.github.io/cobalt/articles/cobalt.html\n",
    "\n",
    "Quoting from the above link:\n",
    "\n",
    "> \"In addition to simply achieving balance, researchers must also report balance to convince readers that their analysis was performed adequately and that their causal conclusions are valid (Thoemmes and Kim 2011).\" "
   ]
  },
  {
   "cell_type": "code",
   "execution_count": 12,
   "id": "70961fe9-c544-442f-ad02-1d18f905d002",
   "metadata": {},
   "outputs": [
    {
     "name": "stdout",
     "output_type": "stream",
     "text": [
      "\u001b[4mBalance Measures\u001b[24m\n",
      "                Type Diff.Un Diff.Adj\n",
      "distance    Distance  1.7941   0.9739\n",
      "age          Contin. -0.3094   0.0718\n",
      "educ         Contin.  0.0550  -0.1290\n",
      "race_black    Binary  0.6404   0.3730\n",
      "race_hispan   Binary -0.0827  -0.1568\n",
      "race_white    Binary -0.5577  -0.2162\n",
      "married       Binary -0.3236  -0.0216\n",
      "nodegree      Binary  0.1114   0.0703\n",
      "re74         Contin. -0.7211  -0.0505\n",
      "re75         Contin. -0.2903  -0.0257\n",
      "\n",
      "\u001b[4mSample sizes\u001b[24m\n",
      "          Control Treated\n",
      "All           429     185\n",
      "Matched       185     185\n",
      "Unmatched     244       0\n",
      "\n"
     ]
    }
   ],
   "source": [
    "import rpy2.ipython\n",
    "\n",
    "%reload_ext rpy2.ipython\n",
    "\n",
    "# import rpy2's package module\n",
    "import rpy2.robjects.packages as rpackages\n",
    "from rpy2.robjects.packages import importr, data\n",
    "from rpy2.robjects import Formula\n",
    "\n",
    "cobalt = rpackages.importr('cobalt')\n",
    "matchit = rpackages.importr('MatchIt')\n",
    "\n",
    "#data(\"lalonde\", package = \"cobalt\")\n",
    "lalonde = data(cobalt).fetch('lalonde')['lalonde']\n",
    "\n",
    "formula = Formula('treat ~ age + educ + race + married + nodegree + re74 + re75')\n",
    "\n",
    "mout = matchit.matchit(formula = formula, data=lalonde)\n",
    "\n",
    "#Checking balance before and after matching:\n",
    "bt = cobalt.bal_tab(mout, un = True) #, thresholds = c(m = .1),)\n",
    "print(bt)"
   ]
  },
  {
   "cell_type": "code",
   "execution_count": 13,
   "id": "19be4812-dac5-4713-9455-a218b47f7ab2",
   "metadata": {},
   "outputs": [
    {
     "data": {
      "image/png": "[encoded data removed]",
      "text/plain": [
       "<IPython.core.display.Image object>"
      ]
     },
     "metadata": {},
     "output_type": "display_data"
    }
   ],
   "source": [
    "%%R -i mout\n",
    "library(\"ggplot2\", \"cobalt\", \"MatchIt\")\n",
    "bal.plot(mout, var.name=\"educ\")\n"
   ]
  },
  {
   "cell_type": "code",
   "execution_count": 14,
   "id": "802beb80-59ab-4d35-a672-ebcca671c16d",
   "metadata": {},
   "outputs": [
    {
     "data": {
      "image/png": "[encoded data removed]",
      "text/plain": [
       "<IPython.core.display.Image object>"
      ]
     },
     "metadata": {},
     "output_type": "display_data"
    }
   ],
   "source": [
    "%%R\n",
    "bal.plot(mout, var.name = \"distance\", \n",
    "    mirror = TRUE, type = \"histogram\")"
   ]
  },
  {
   "cell_type": "code",
   "execution_count": 15,
   "id": "96ecad47-121d-44f9-a7d1-dbd461d7c4b5",
   "metadata": {},
   "outputs": [
    {
     "data": {
      "image/png": "[encoded data removed]",
      "text/plain": [
       "<IPython.core.display.Image object>"
      ]
     },
     "metadata": {},
     "output_type": "display_data"
    }
   ],
   "source": [
    "%%R\n",
    "#Generating a Love plot to report balance:\n",
    "love.plot(mout, stats = c(\"mean.diffs\", \"variance.ratios\"),\n",
    "          thresholds = c(m = .1, v = 2), abs = TRUE, \n",
    "          binary = \"std\",\n",
    "          var.order = \"unadjusted\")"
   ]
  },
  {
   "cell_type": "code",
   "execution_count": null,
   "id": "495d0c59-501b-47fc-bc45-2f32e2a84c3d",
   "metadata": {},
   "outputs": [],
   "source": []
  }
 ],
 "metadata": {
  "kernelspec": {
   "display_name": "Python 3 (ipykernel)",
   "language": "python",
   "name": "python3"
  },
  "language_info": {
   "codemirror_mode": {
    "name": "ipython",
    "version": 3
   },
   "file_extension": ".py",
   "mimetype": "text/x-python",
   "name": "python",
   "nbconvert_exporter": "python",
   "pygments_lexer": "ipython3",
   "version": "3.8.17"
  }
 },
 "nbformat": 4,
 "nbformat_minor": 5
}
