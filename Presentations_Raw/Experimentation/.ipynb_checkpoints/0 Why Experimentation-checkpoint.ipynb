{
 "cells": [
  {
   "cell_type": "markdown",
   "id": "82c54e31",
   "metadata": {},
   "source": [
    "# Why Experimentation and Role of Noise\n",
    "Julian Hsu\n",
    "29-apr-2023\n",
    "\n",
    "\n",
    "In this notebook we will motivate why AB experimentation (and general causal inference) is useful, and the role of statistial noise. Statistical noise means that we care about Type 1 and Type 2 errors. This will be a key feature of our experimental design.\n",
    "\n",
    "Other topics we can cover are:\n",
    "1. The Stable Unit Treatment Value Assumption (SUTVA) and network effects;\n",
    "2. Sequential testing; \n",
    "3. When randomization fails: causal models; and\n",
    "4. Heterogeneous treatment effects in experiments.\n"
   ]
  },
  {
   "cell_type": "markdown",
   "id": "9b1ee2b7",
   "metadata": {},
   "source": [
    "## Why Experiments?\n",
    "Very often we take actions because we want to understand the return, or lift, from it. For example, we may be interested in launching a new ads campaign, changing the price of a product, or introducing new search query algorithms. How do we know that these actions are actually improvements? That is, they deliver benefit?\n",
    "\n",
    "Once we agree that this decision should be motivated by data, we have several pptions available to us. All these options frame this question as a **causal question of what the impact is from a given action.** These are two options available to us.\n",
    "\n",
    "First is to look at any historical data where we may have be taken similar actions. That is, we are considering increasing a product price and look at when we changed the price in the past. The drawback of historical data is that often these similar actions were not done as part of an experiment. This means that we cannot be sure the changes in outcomes is directly due to the price change, or due to other factors such as other products' prices changing. This means that our estimate using historical, non-experimental data could be **biased.** In the example of the product price, the change in overall revenue is due to the product price change and other products' price change, but we cannot know how much is due to one or the other.\n",
    "\n",
    "The second approach is to do a randomized experiment. In this experiment, we will randomly assign some units to a treatment group and others to a control group. In the case of product price or an advertising campaign, some customers are exposed to the new price or ads campaign, while others are not.\n",
    "\n",
    "Why is the experiment a better approach? Since we have randomly assigned treatment and control, we have isolated the role other factors can play. Other features that can drive the impact are similar between treatment and control. That is, customers that randomly experience different prices or ads campaigns are similar in all ways except for the treatment and control status. This means that when we look at the differences in outcomes between treatment and control, we can safely attribute differencestoo the treatment and control status.\n"
   ]
  },
  {
   "cell_type": "markdown",
   "id": "9bb7ec76",
   "metadata": {},
   "source": [
    "### What If? Outcomes\n",
    "We can think about experiments as a superior approach because it gives us the best insight and estimate of units' outcomes under both treatment and control status.\n",
    "\n",
    "Our decision that this is a **causal question** means that we have decided our inherent problem is that we do not know what the outcomes would be under treatment and control are like. That is, we do not know, on average, what the overall revenue would be if we changed the product price, or what the overall revenue is if we used the new campaign or not. These are also known as **counterfactual outcomes.** In our data, we can only directly see outcomes if they are treated, control, but not both.\n",
    "\n",
    "This is another way to think about the **bias** from before. Suppose that in our data, treated customers that saw higher prices for a product also happened to be shopping for more products. In this case, treated customers could be spending more because they are shopping for more products, rather than because they were experiencing higher prices. This means that the outcomes of treated customers is greater than the **counterfactual outcome** of control customers if they faced higher prices.\n",
    "\n",
    "A randomized experiment removes these biases on average because it randomly assigns treatment and control status. If we looked over all the control customers, we should find that they are on average the same as the treatment customers. Then these treatment and control groups are accurate representations of each others **counterfactual outcome.** \n"
   ]
  },
  {
   "cell_type": "markdown",
   "id": "507c6527",
   "metadata": {},
   "source": [
    "## Role of Noise: Hypothesis Testing and Errors\n",
    "\n",
    "Suppose we have done a randomized experiment around price or the new ads campaign. We have verified that the randomization was correctly done, so that we have unbiased estimates of the counterfactual outcomes. We have ruled out bias from different features that drive the outcome, but we have not ruled out bias that comes from natural statistical noise.\n",
    "\n",
    "For example, we know that customer spending is highly unpredictable. There are multiple things that can drive customer spending, and only some of it (income, location) is observable. Experimentation allows us to remove the role that these observed and unobserved factors can have on spending. However, customer spending will still vary among treatment and control units. Experimentation works by making control and treatment units the same *on average.* The natural variation within these can be found of as statistical noise.\n",
    "\n",
    "We will cover in this section how this noise interferes with our ability to test whether the null hypothesis that treatment and control customer spending is the same. Technically, we are trying to gather evidence that either rejects the null hypothesis, or failed to reject the null hypothesis. Here, a Type 1 error would be we reject the null hypothesis, but it was in fact true."
   ]
  },
  {
   "cell_type": "markdown",
   "id": "4ab709df",
   "metadata": {},
   "source": [
    "### Type 1 and Type 2 Errors\n",
    "It's important to recognize that statistical noise is indistinguishable from actual impacts. In one experiment, we see that treatment customers' overall spending is greater than control customers' spending on average. But is this due to the treatment is because treatment customers' just happened to be spending more for other reasons? We can never know this for sure because we do not know the individual ground truth. In other words,  we are missing the **counterfactual outcomes** for each unit. This means that we could conclude that the treatment had an impact, but in actually it did not.\n",
    "\n",
    "There are two types of Errors we could make. We describe them simply first here, and will then connect them to statistical tests.\n",
    "1. **Type 1 Error**(aka False Positive): We incorrectly conclude that the treatment had an impact, but it in fact did not.  \n",
    "2. **Type 2 Error**(aka False Negative): we incorrectly conclude that the treatment had no impact, but it in fact did.\n",
    "\n",
    "Since statistical noise is ever-present in data and experimentation, we will **always run some risk** of making a Type 1 or Type 2 error. Fortunately, separate statistical tests formalize a process for us to assume some Type 1 and Type 2 risk when making a decision.\n",
    "\n",
    "\n"
   ]
  },
  {
   "cell_type": "markdown",
   "id": "15586fca",
   "metadata": {},
   "source": [
    "### Hypothesis Testing and Type 1 Errors\n",
    "\n",
    "Using the variation in outcomes across treatment and control units, statistical tests will can tell us how much Type 1 error risk is associated with a conclusion that we reject or fail to reject the null hypothesis. Summarizing the technical details, a statistical test uses the Law of Large Numbers to estimate what the variation of treatment and control unit differences would be if we had repeated the experiment infinite times.\n",
    "\n",
    "What does it mean to repeat an experiment infinite times?\n",
    "* You may think it would be if we did the experiment again next month, and the month after that, etc. That isn't entirely right because the month may drive differences in outcomes.\n",
    "* You may think if we sampled different customers instead of the ones we had? This is a little closer but still not entirely right. Suppose that we sampled all possible treatment and control customers, we couldn't possible sample other ones. \n",
    "\n",
    "Infinite times means that if we sampled the same customers over and over, but the statistial noise is different. You can think of it as a parallel universe where we sampled the same customers. These are the same customers, but because we did experiments over different parallel universes their outcomes will be different. \n",
    "\n",
    "Now that the hypothesis test takes this estimated parallel universe information to calculate a p-value. This p-value gives us a window into what possible outcomes could have happened in these other parallel universe experiments, we know **how likely it is we see the different in outcomes between treatment and control assuming that our null hypothesis is true.** This bolded point bears repeating. The p-value can tell us how likely it is we see a difference in treatment and control customers driven by noise, assuming that there really is no difference.\n",
    "\n",
    "The test statistics formalizes our way of understanding this noise. Skipping the technical details, we can interpret the test statistics by first making a decision of how likely we are comfortable making a Type 1 error (False Positive Rate). You'll often see a 95% confidence interval, which reflects a 5% Type 1 error. \n",
    "\n",
    "For example, we could find that treatment customers have 5% more spending than control customers. The 95% confidence interval can be from 1% to 8%; the p-value is 2%. This means that if we had this experiment an infinite number of times, 95% of the differences would be between 1% and 8%, and the probability we would have see a 5% difference assuming there were no differences is 2%. \n",
    "\n",
    "You'll notice that our discussion of hypothesis tests, p-values, and confidence intervals hasn't touched on Type 2 errors yet!"
   ]
  },
  {
   "cell_type": "markdown",
   "id": "0f892b75",
   "metadata": {},
   "source": [
    "### Type 2 Errors and Statistical Power"
   ]
  },
  {
   "cell_type": "code",
   "execution_count": null,
   "id": "6c2e398d",
   "metadata": {},
   "outputs": [],
   "source": []
  },
  {
   "cell_type": "code",
   "execution_count": null,
   "id": "0ebd80aa",
   "metadata": {},
   "outputs": [],
   "source": []
  },
  {
   "cell_type": "code",
   "execution_count": null,
   "id": "cba459f0",
   "metadata": {},
   "outputs": [],
   "source": []
  }
 ],
 "metadata": {
  "kernelspec": {
   "display_name": "Python 3 (ipykernel)",
   "language": "python",
   "name": "python3"
  },
  "language_info": {
   "codemirror_mode": {
    "name": "ipython",
    "version": 3
   },
   "file_extension": ".py",
   "mimetype": "text/x-python",
   "name": "python",
   "nbconvert_exporter": "python",
   "pygments_lexer": "ipython3",
   "version": "3.9.13"
  }
 },
 "nbformat": 4,
 "nbformat_minor": 5
}
