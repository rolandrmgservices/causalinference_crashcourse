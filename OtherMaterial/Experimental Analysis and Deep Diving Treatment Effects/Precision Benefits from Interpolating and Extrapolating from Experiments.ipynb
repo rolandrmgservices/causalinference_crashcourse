{
 "cells": [
  {
   "cell_type": "markdown",
   "id": "6786619e",
   "metadata": {},
   "source": [
    "# Precision Benefits from Interpolating and Extrapolating from Experiments\n",
    "## Fixed Effect vs Continuous Feature in Experiments\n",
    "Julian Hsu\n",
    "18-july-2023\n",
    "\n",
    "The purpose of this script is to understand the implications of modeling the experimental variation as a fixed effect versus continuous feature. \n",
    "\n",
    "Consider an experiment where we randomly changed $w_i$ to be $w_1$ and $w_2$. We want to know calculating the standard error from two OLS regressions:\n",
    "$$ Y_i = \\beta_0 + \\tau_1 1\\{w_i = w_1\\} + \\tau_2 1\\{w_i = w_2\\} + \\epsilon_i $$\n",
    "$$ Y_i = \\beta_0 + \\alpha w_i + \\eta_i $$\n",
    "and then finding the point estimate and standard error from the average of $\\hat{\\tau}_1$ and $\\hat{\\tau}_2$ to that of $\\hat{\\alpha} (w_1 + w_2) / 2$."
   ]
  },
  {
   "cell_type": "markdown",
   "id": "06a2c90a",
   "metadata": {},
   "source": [
    "**Sound byte**: There are precision benefits from making assumptions about your data. We often want to test more treatments than we feasibly deploy. *When you experiment with a low and high price change, can you infer how a medium price change would do?* I show below with simulated data that if you are willing to assume a linear relationship in price change, then your confidence interval is much smaller. The confidence interval is wider if you assume the two treatments' impacts are not related.\n",
    "\n",
    "Assuming a relationship between the treatments means that you can link the results from your two experiments and use it to better predict the impacts of \"counterfactual treatments.\" Of course, you *must consider* whether this assumption seems reasonable. The further apart the two treatments, the less likely there is a linear relationship.\n",
    "\n",
    "I find the same if you want to extrapolate from your limited experiments too. Check it out here! https://github.com/shoepaladin/causalinference_crashcourse/blob/main/OtherMaterial/Precision%20Benefits%20from%20Interpolating%20and%20Extrapolating%20from%20Experiments.ipynb"
   ]
  },
  {
   "cell_type": "code",
   "execution_count": 137,
   "id": "6afcad1f",
   "metadata": {},
   "outputs": [],
   "source": [
    "import numpy as np\n",
    "import pandas as pd\n",
    "import statsmodels.api as sm\n",
    "\n",
    "\n",
    "%matplotlib inline\n",
    "\n",
    "import matplotlib\n",
    "import matplotlib.pyplot as plt\n"
   ]
  },
  {
   "cell_type": "markdown",
   "id": "6a736a80",
   "metadata": {},
   "source": [
    "## Write a function to generate data and estimate paramers\n",
    "Assume completely random experiments"
   ]
  },
  {
   "cell_type": "code",
   "execution_count": 138,
   "id": "79a950f2",
   "metadata": {},
   "outputs": [],
   "source": [
    "def dgp(N=1000, p=0.5, w1=1, w2=5):\n",
    "    '''\n",
    "    N       sample size\n",
    "    p       probability of sample given w1 vs w2\n",
    "    w1,w2   w1 and w2 values\n",
    "    '''\n",
    "    data_out = pd.DataFrame()\n",
    "    data_out['w'] = w1 + (w2-w1)*np.random.choice(2, N, p=[1-p,p])\n",
    "    data_out.loc[(np.random.choice(2,N,p=[1-p/2, p/2])==1), 'w']=0\n",
    "    data_out['y'] = 2+ data_out['w'] + np.random.normal(0,1,N)\n",
    "    data_out['w1'] = (data_out['w']==w1).astype(float)\n",
    "    data_out['w2'] = (data_out['w']==w2).astype(float)\n",
    "    return data_out"
   ]
  },
  {
   "cell_type": "code",
   "execution_count": 139,
   "id": "1dcc6c04",
   "metadata": {},
   "outputs": [],
   "source": [
    "def ols_fe(data=None):\n",
    "    ols_fe_model = sm.OLS(data['y'], sm.add_constant(data[['w1','w2']])).fit()\n",
    "    return ols_fe_model\n",
    "\n",
    "def ols_co(data=None):\n",
    "    ols_co_model = sm.OLS(data['y'], sm.add_constant(data[['w']])).fit()\n",
    "    return ols_co_model"
   ]
  },
  {
   "cell_type": "code",
   "execution_count": 140,
   "id": "99127584",
   "metadata": {},
   "outputs": [],
   "source": [
    "df = dgp(w1=1, w2=5)"
   ]
  },
  {
   "cell_type": "code",
   "execution_count": 141,
   "id": "e214b5f8",
   "metadata": {},
   "outputs": [
    {
     "data": {
      "text/plain": [
       "1    391\n",
       "5    366\n",
       "0    243\n",
       "Name: w, dtype: int64"
      ]
     },
     "metadata": {},
     "output_type": "display_data"
    },
    {
     "data": {
      "text/html": [
       "<div>\n",
       "<style scoped>\n",
       "    .dataframe tbody tr th:only-of-type {\n",
       "        vertical-align: middle;\n",
       "    }\n",
       "\n",
       "    .dataframe tbody tr th {\n",
       "        vertical-align: top;\n",
       "    }\n",
       "\n",
       "    .dataframe thead th {\n",
       "        text-align: right;\n",
       "    }\n",
       "</style>\n",
       "<table border=\"1\" class=\"dataframe\">\n",
       "  <thead>\n",
       "    <tr style=\"text-align: right;\">\n",
       "      <th></th>\n",
       "      <th>count</th>\n",
       "      <th>mean</th>\n",
       "      <th>std</th>\n",
       "      <th>min</th>\n",
       "      <th>25%</th>\n",
       "      <th>50%</th>\n",
       "      <th>75%</th>\n",
       "      <th>max</th>\n",
       "    </tr>\n",
       "  </thead>\n",
       "  <tbody>\n",
       "    <tr>\n",
       "      <th>w</th>\n",
       "      <td>1000.0</td>\n",
       "      <td>2.221000</td>\n",
       "      <td>2.147736</td>\n",
       "      <td>0.000000</td>\n",
       "      <td>1.000000</td>\n",
       "      <td>1.000000</td>\n",
       "      <td>5.000000</td>\n",
       "      <td>5.000000</td>\n",
       "    </tr>\n",
       "    <tr>\n",
       "      <th>y</th>\n",
       "      <td>1000.0</td>\n",
       "      <td>4.248541</td>\n",
       "      <td>2.376096</td>\n",
       "      <td>-0.786188</td>\n",
       "      <td>2.338157</td>\n",
       "      <td>3.532813</td>\n",
       "      <td>6.531486</td>\n",
       "      <td>9.725235</td>\n",
       "    </tr>\n",
       "    <tr>\n",
       "      <th>w1</th>\n",
       "      <td>1000.0</td>\n",
       "      <td>0.391000</td>\n",
       "      <td>0.488219</td>\n",
       "      <td>0.000000</td>\n",
       "      <td>0.000000</td>\n",
       "      <td>0.000000</td>\n",
       "      <td>1.000000</td>\n",
       "      <td>1.000000</td>\n",
       "    </tr>\n",
       "    <tr>\n",
       "      <th>w2</th>\n",
       "      <td>1000.0</td>\n",
       "      <td>0.366000</td>\n",
       "      <td>0.481950</td>\n",
       "      <td>0.000000</td>\n",
       "      <td>0.000000</td>\n",
       "      <td>0.000000</td>\n",
       "      <td>1.000000</td>\n",
       "      <td>1.000000</td>\n",
       "    </tr>\n",
       "  </tbody>\n",
       "</table>\n",
       "</div>"
      ],
      "text/plain": [
       "     count      mean       std       min       25%       50%       75%  \\\n",
       "w   1000.0  2.221000  2.147736  0.000000  1.000000  1.000000  5.000000   \n",
       "y   1000.0  4.248541  2.376096 -0.786188  2.338157  3.532813  6.531486   \n",
       "w1  1000.0  0.391000  0.488219  0.000000  0.000000  0.000000  1.000000   \n",
       "w2  1000.0  0.366000  0.481950  0.000000  0.000000  0.000000  1.000000   \n",
       "\n",
       "         max  \n",
       "w   5.000000  \n",
       "y   9.725235  \n",
       "w1  1.000000  \n",
       "w2  1.000000  "
      ]
     },
     "metadata": {},
     "output_type": "display_data"
    }
   ],
   "source": [
    "display( df['w'].value_counts() )\n",
    "display(df.describe().T)\n"
   ]
  },
  {
   "cell_type": "markdown",
   "id": "e5b7c29d",
   "metadata": {},
   "source": [
    "## Now plot the standard error and estimates from interpolations and extrapolations\n",
    "\n",
    "We will start with single use cases for a single dataset, and then do a lot of simulations."
   ]
  },
  {
   "cell_type": "markdown",
   "id": "00c10a08",
   "metadata": {},
   "source": [
    "**Interpolations**"
   ]
  },
  {
   "cell_type": "code",
   "execution_count": 72,
   "id": "adadee09",
   "metadata": {},
   "outputs": [
    {
     "name": "stdout",
     "output_type": "stream",
     "text": [
      "GT values of w1=1 and w2=5\n",
      "Predicted interpolation point estimate and se: 3.02 [0.07]\n"
     ]
    }
   ],
   "source": [
    "print('GT values of w1={0} and w2={1}'.format(1,5))\n",
    "fe_result = ols_fe(data=df)\n",
    "\n",
    "fe_avg_coef = fe_result.params[['w1','w2']].mean()\n",
    "fe_avg_se = np.sqrt( fe_result.cov_params()['w1']['w1']+fe_result.cov_params()['w2']['w2']+2*fe_result.cov_params()['w1']['w2'] )\n",
    "print('Predicted interpolation point estimate and se: {0:3.2f} [{1:3.2f}]'.format(fe_avg_coef, fe_avg_se))"
   ]
  },
  {
   "cell_type": "code",
   "execution_count": 73,
   "id": "a67671f8",
   "metadata": {},
   "outputs": [
    {
     "name": "stdout",
     "output_type": "stream",
     "text": [
      "GT values of w=1\n",
      "Predicted interpolation point estimate and se: 2.98 [0.06]\n"
     ]
    }
   ],
   "source": [
    "print('GT values of w={0}'.format(1))\n",
    "co_result = ols_co(data=df)\n",
    "\n",
    "co_avg_coef = co_result.params['w']*3\n",
    "co_avg_se =  co_result.bse['w']*(3**2)\n",
    "print('Predicted interpolation point estimate and se: {0:3.2f} [{1:3.2f}]'.format(co_avg_coef, co_avg_se))\n"
   ]
  },
  {
   "cell_type": "markdown",
   "id": "06ca7edf",
   "metadata": {},
   "source": [
    "**Extrapolations**"
   ]
  },
  {
   "cell_type": "code",
   "execution_count": 76,
   "id": "a8b71bc0",
   "metadata": {},
   "outputs": [
    {
     "name": "stdout",
     "output_type": "stream",
     "text": [
      "Extrapolate to 7.5\n",
      "Predicted extrapolation point estimate and se: 7.49 [0.09]\n"
     ]
    }
   ],
   "source": [
    "fe_avg_coef = fe_result.params['w2']*1.5\n",
    "fe_avg_se = fe_result.bse['w2']*(1.5**2)\n",
    "print('Extrapolate to {0}'.format(5*1.5))\n",
    "print('Predicted extrapolation point estimate and se: {0:3.2f} [{1:3.2f}]'.format(fe_avg_coef, fe_avg_se))"
   ]
  },
  {
   "cell_type": "code",
   "execution_count": 77,
   "id": "e4223d09",
   "metadata": {},
   "outputs": [
    {
     "name": "stdout",
     "output_type": "stream",
     "text": [
      "Extrapolate to 7.5\n",
      "Predicted interpolation point estimate and se: 7.45 [0.08]\n"
     ]
    }
   ],
   "source": [
    "co_avg_coef = co_result.params['w']*5*1.5\n",
    "co_avg_se =  co_result.bse['w']*(5*1.5**2)\n",
    "print('Extrapolate to {0}'.format(5*1.5))\n",
    "print('Predicted interpolation point estimate and se: {0:3.2f} [{1:3.2f}]'.format(co_avg_coef, co_avg_se))\n"
   ]
  },
  {
   "cell_type": "markdown",
   "id": "3043e547",
   "metadata": {},
   "source": [
    "**Okay now run a lot of simulations and collect results**"
   ]
  },
  {
   "cell_type": "code",
   "execution_count": 136,
   "id": "c965cb6f",
   "metadata": {},
   "outputs": [],
   "source": [
    "Srange=2000\n",
    "df_result = pd.DataFrame()\n",
    "for s_ in range(Srange):\n",
    "    df = dgp(w1=1, w2=5)\n",
    "    ## Train OLS models\n",
    "    fe_result = ols_fe(data=df)\n",
    "    co_result = ols_co(data=df)        \n",
    "        \n",
    "    ## Interpolations\n",
    "    fe_avg_coefA = fe_result.params[['w1','w2']].mean()\n",
    "    fe_avg_seA = np.sqrt( fe_result.cov_params()['w1']['w1']+fe_result.cov_params()['w2']['w2']+2*fe_result.cov_params()['w1']['w2'] )\n",
    "    \n",
    "    co_avg_coefA = co_result.params['w']*3\n",
    "    co_avg_seA =  co_result.bse['w']*(3**2)\n",
    "\n",
    "    ## Extrapolations\n",
    "    fe_avg_coefB = fe_result.params['w2']*1.5\n",
    "    fe_avg_seB = fe_result.bse['w2']*(1.5**2)\n",
    "\n",
    "    co_avg_coefB = co_result.params['w']*5*1.5\n",
    "    co_avg_seB =  co_result.bse['w']*(5*1.5**2)\n",
    "    \n",
    "    out = pd.DataFrame(index=[s_],\n",
    "                        data={'inter_fe_coef':fe_avg_coefA, 'inter_fe_se':fe_avg_seA\n",
    "                            ,'extra_fe_coef':fe_avg_coefB, 'extra_fe_se':fe_avg_seB\n",
    "                            ,'inter_co_coef':co_avg_coefA, 'inter_co_se':co_avg_seA\n",
    "                            ,'extra_co_coef':co_avg_coefB, 'extra_co_se':co_avg_seB})\n",
    "    df_result=pd.concat([df_result, out])"
   ]
  },
  {
   "cell_type": "code",
   "execution_count": null,
   "id": "7bb6b20d",
   "metadata": {},
   "outputs": [],
   "source": []
  },
  {
   "cell_type": "code",
   "execution_count": 142,
   "id": "31c0eea7",
   "metadata": {},
   "outputs": [
    {
     "data": {
      "text/html": [
       "<div>\n",
       "<style scoped>\n",
       "    .dataframe tbody tr th:only-of-type {\n",
       "        vertical-align: middle;\n",
       "    }\n",
       "\n",
       "    .dataframe tbody tr th {\n",
       "        vertical-align: top;\n",
       "    }\n",
       "\n",
       "    .dataframe thead th {\n",
       "        text-align: right;\n",
       "    }\n",
       "</style>\n",
       "<table border=\"1\" class=\"dataframe\">\n",
       "  <thead>\n",
       "    <tr style=\"text-align: right;\">\n",
       "      <th></th>\n",
       "      <th>inter_fe_coef</th>\n",
       "      <th>inter_fe_se</th>\n",
       "      <th>extra_fe_coef</th>\n",
       "      <th>extra_fe_se</th>\n",
       "      <th>inter_co_coef</th>\n",
       "      <th>inter_co_se</th>\n",
       "      <th>extra_co_coef</th>\n",
       "      <th>extra_co_se</th>\n",
       "      <th>cir_inter_fe_se</th>\n",
       "      <th>cir_extra_fe_se</th>\n",
       "      <th>cir_inter_co_se</th>\n",
       "      <th>cir_extra_co_se</th>\n",
       "    </tr>\n",
       "  </thead>\n",
       "  <tbody>\n",
       "    <tr>\n",
       "      <th>count</th>\n",
       "      <td>2000.000000</td>\n",
       "      <td>2000.000000</td>\n",
       "      <td>2000.000000</td>\n",
       "      <td>2000.000000</td>\n",
       "      <td>2000.000000</td>\n",
       "      <td>2000.000000</td>\n",
       "      <td>2000.000000</td>\n",
       "      <td>2000.000000</td>\n",
       "      <td>2000.000000</td>\n",
       "      <td>2000.000000</td>\n",
       "      <td>2000.000000</td>\n",
       "      <td>2000.000000</td>\n",
       "    </tr>\n",
       "    <tr>\n",
       "      <th>mean</th>\n",
       "      <td>2.998871</td>\n",
       "      <td>0.146153</td>\n",
       "      <td>7.497092</td>\n",
       "      <td>0.183846</td>\n",
       "      <td>2.998805</td>\n",
       "      <td>0.131532</td>\n",
       "      <td>7.497012</td>\n",
       "      <td>0.164415</td>\n",
       "      <td>0.572921</td>\n",
       "      <td>0.720678</td>\n",
       "      <td>0.515606</td>\n",
       "      <td>0.644508</td>\n",
       "    </tr>\n",
       "    <tr>\n",
       "      <th>std</th>\n",
       "      <td>0.073059</td>\n",
       "      <td>0.004228</td>\n",
       "      <td>0.123574</td>\n",
       "      <td>0.004982</td>\n",
       "      <td>0.043866</td>\n",
       "      <td>0.003202</td>\n",
       "      <td>0.109664</td>\n",
       "      <td>0.004003</td>\n",
       "      <td>0.016576</td>\n",
       "      <td>0.019530</td>\n",
       "      <td>0.012553</td>\n",
       "      <td>0.015692</td>\n",
       "    </tr>\n",
       "    <tr>\n",
       "      <th>min</th>\n",
       "      <td>2.697689</td>\n",
       "      <td>0.132851</td>\n",
       "      <td>7.011985</td>\n",
       "      <td>0.166871</td>\n",
       "      <td>2.857127</td>\n",
       "      <td>0.119295</td>\n",
       "      <td>7.142817</td>\n",
       "      <td>0.149119</td>\n",
       "      <td>0.520777</td>\n",
       "      <td>0.654135</td>\n",
       "      <td>0.467636</td>\n",
       "      <td>0.584545</td>\n",
       "    </tr>\n",
       "    <tr>\n",
       "      <th>25%</th>\n",
       "      <td>2.946015</td>\n",
       "      <td>0.143310</td>\n",
       "      <td>7.409996</td>\n",
       "      <td>0.180508</td>\n",
       "      <td>2.969774</td>\n",
       "      <td>0.129363</td>\n",
       "      <td>7.424434</td>\n",
       "      <td>0.161703</td>\n",
       "      <td>0.561776</td>\n",
       "      <td>0.707590</td>\n",
       "      <td>0.507101</td>\n",
       "      <td>0.633876</td>\n",
       "    </tr>\n",
       "    <tr>\n",
       "      <th>50%</th>\n",
       "      <td>2.998643</td>\n",
       "      <td>0.145963</td>\n",
       "      <td>7.495221</td>\n",
       "      <td>0.183608</td>\n",
       "      <td>2.998165</td>\n",
       "      <td>0.131368</td>\n",
       "      <td>7.495413</td>\n",
       "      <td>0.164209</td>\n",
       "      <td>0.572176</td>\n",
       "      <td>0.719745</td>\n",
       "      <td>0.514961</td>\n",
       "      <td>0.643701</td>\n",
       "    </tr>\n",
       "    <tr>\n",
       "      <th>75%</th>\n",
       "      <td>3.049542</td>\n",
       "      <td>0.148998</td>\n",
       "      <td>7.579896</td>\n",
       "      <td>0.187162</td>\n",
       "      <td>3.028175</td>\n",
       "      <td>0.133599</td>\n",
       "      <td>7.570438</td>\n",
       "      <td>0.166999</td>\n",
       "      <td>0.584071</td>\n",
       "      <td>0.733674</td>\n",
       "      <td>0.523710</td>\n",
       "      <td>0.654637</td>\n",
       "    </tr>\n",
       "    <tr>\n",
       "      <th>max</th>\n",
       "      <td>3.262432</td>\n",
       "      <td>0.160087</td>\n",
       "      <td>7.912559</td>\n",
       "      <td>0.199967</td>\n",
       "      <td>3.155847</td>\n",
       "      <td>0.142372</td>\n",
       "      <td>7.889618</td>\n",
       "      <td>0.177965</td>\n",
       "      <td>0.627541</td>\n",
       "      <td>0.783872</td>\n",
       "      <td>0.558098</td>\n",
       "      <td>0.697622</td>\n",
       "    </tr>\n",
       "  </tbody>\n",
       "</table>\n",
       "</div>"
      ],
      "text/plain": [
       "       inter_fe_coef  inter_fe_se  extra_fe_coef  extra_fe_se  inter_co_coef  \\\n",
       "count    2000.000000  2000.000000    2000.000000  2000.000000    2000.000000   \n",
       "mean        2.998871     0.146153       7.497092     0.183846       2.998805   \n",
       "std         0.073059     0.004228       0.123574     0.004982       0.043866   \n",
       "min         2.697689     0.132851       7.011985     0.166871       2.857127   \n",
       "25%         2.946015     0.143310       7.409996     0.180508       2.969774   \n",
       "50%         2.998643     0.145963       7.495221     0.183608       2.998165   \n",
       "75%         3.049542     0.148998       7.579896     0.187162       3.028175   \n",
       "max         3.262432     0.160087       7.912559     0.199967       3.155847   \n",
       "\n",
       "       inter_co_se  extra_co_coef  extra_co_se  cir_inter_fe_se  \\\n",
       "count  2000.000000    2000.000000  2000.000000      2000.000000   \n",
       "mean      0.131532       7.497012     0.164415         0.572921   \n",
       "std       0.003202       0.109664     0.004003         0.016576   \n",
       "min       0.119295       7.142817     0.149119         0.520777   \n",
       "25%       0.129363       7.424434     0.161703         0.561776   \n",
       "50%       0.131368       7.495413     0.164209         0.572176   \n",
       "75%       0.133599       7.570438     0.166999         0.584071   \n",
       "max       0.142372       7.889618     0.177965         0.627541   \n",
       "\n",
       "       cir_extra_fe_se  cir_inter_co_se  cir_extra_co_se  \n",
       "count      2000.000000      2000.000000      2000.000000  \n",
       "mean          0.720678         0.515606         0.644508  \n",
       "std           0.019530         0.012553         0.015692  \n",
       "min           0.654135         0.467636         0.584545  \n",
       "25%           0.707590         0.507101         0.633876  \n",
       "50%           0.719745         0.514961         0.643701  \n",
       "75%           0.733674         0.523710         0.654637  \n",
       "max           0.783872         0.558098         0.697622  "
      ]
     },
     "execution_count": 142,
     "metadata": {},
     "output_type": "execute_result"
    }
   ],
   "source": [
    "for x in ['inter_fe_se','extra_fe_se','inter_co_se','extra_co_se']:\n",
    "    df_result['cir_{0}'.format(x)] = 2*1.96*df_result[x]\n",
    "df_result.describe()"
   ]
  },
  {
   "cell_type": "code",
   "execution_count": 143,
   "id": "f1cd98f7",
   "metadata": {},
   "outputs": [],
   "source": [
    "def histogram_plot(inter_type='inter', custom_title=None):\n",
    "    fig,ax = plt.subplots(ncols=2,nrows=1,figsize=(8,3), sharey=True)\n",
    "    for x in ['fe','co']:\n",
    "        if x=='fe':\n",
    "            desc = 'Fixed Effects'\n",
    "        else:\n",
    "            desc = 'Continuous'\n",
    "        di3=ax[0].hist(df_result['{1}_{0}_coef'.format(x,inter_type)], label=desc, alpha=0.45)\n",
    "        ax[1].hist(df_result['cir_{1}_{0}_se'.format(x,inter_type)], label=desc, alpha=0.45)\n",
    "        ax[0].legend(title='Treatment Arms\\n Modeled as')\n",
    "        ax[1].legend(title='Treatment Arms\\n Modeled as')\n",
    "    ax[0].set_title('Distribution of Coefficients')    \n",
    "    ax[1].set_title('Distribution of 95% Confidence Interval')    \n",
    "    fig.suptitle(custom_title)\n",
    "    fig.tight_layout(h_pad=2)\n",
    "    plt.show()\n"
   ]
  },
  {
   "cell_type": "code",
   "execution_count": 144,
   "id": "e1726332",
   "metadata": {},
   "outputs": [
    {
     "data": {
      "image/png": "[encoded data removed]",
      "text/plain": [
       "<Figure size 800x300 with 2 Axes>"
      ]
     },
     "metadata": {},
     "output_type": "display_data"
    }
   ],
   "source": [
    "histogram_plot(inter_type='inter', custom_title='Interpolating Impact Between Two Treatment Arms')\n"
   ]
  },
  {
   "cell_type": "code",
   "execution_count": 145,
   "id": "489193b6",
   "metadata": {},
   "outputs": [
    {
     "data": {
      "image/png": "[encoded data removed]",
      "text/plain": [
       "<Figure size 800x300 with 2 Axes>"
      ]
     },
     "metadata": {},
     "output_type": "display_data"
    }
   ],
   "source": [
    "histogram_plot(inter_type='extra', custom_title='Extrapolating from Two Treatment Arms')"
   ]
  },
  {
   "cell_type": "markdown",
   "id": "098a1d0c",
   "metadata": {},
   "source": []
  },
  {
   "cell_type": "code",
   "execution_count": null,
   "id": "daceebe8",
   "metadata": {},
   "outputs": [],
   "source": []
  }
 ],
 "metadata": {
  "kernelspec": {
   "display_name": "Python 3 (ipykernel)",
   "language": "python",
   "name": "python3"
  },
  "language_info": {
   "codemirror_mode": {
    "name": "ipython",
    "version": 3
   },
   "file_extension": ".py",
   "mimetype": "text/x-python",
   "name": "python",
   "nbconvert_exporter": "python",
   "pygments_lexer": "ipython3",
   "version": "3.9.13"
  }
 },
 "nbformat": 4,
 "nbformat_minor": 5
}
