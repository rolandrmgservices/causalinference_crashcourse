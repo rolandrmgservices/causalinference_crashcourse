{
 "cells": [
  {
   "cell_type": "markdown",
   "id": "6fd579bf",
   "metadata": {},
   "source": [
    "# Logarithm Transformation as an Approximation of Percentage Lift\n",
    "Julian Hsu\n",
    "27-Sept-2023\n",
    "\n",
    "**Reminder that $\\beta$ from log(y) = B * W doesn't estimate the ROI.** Except for edge cases, the ROI estimate is exp(B)-1. You can derive this with algebra, and you can find it at my notebook here. \n",
    "\n",
    "\n",
    "The algebra below:\n",
    "\\begin{align}\n",
    "Y &= Y_0 B*W & (\\text{True DGP}) \\\\\n",
    "\\\\\n",
    "log(Y) &= \\beta_0 + \\beta_1 W  & (\\text{Estimating Equation} )\\\\\n",
    "\\end{align}\n",
    "\n",
    "Note that when $W=0$, then $Y = Y_0$ and $log(Y) = \\beta_0, \\text{ therefore, } \\Rightarrow Y_0 = exp[\\beta_0]$\n",
    "\n",
    "So when $W=1$:\n",
    "\\begin{align}\n",
    "Y_0 (1+B) & = exp[\\beta_0 + \\beta_1]\\\\\n",
    "Y_0 (1+B) & = exp[\\beta_0] \\times exp[\\beta_1] & \\text{ by law of exponents} \\\\\n",
    "exp[\\beta_0] (1+B) & = exp[\\beta_0] \\times exp[\\beta_1] & \\text{ subbing in above} \\\\\n",
    "(1+B) & = exp[\\beta_1] \n",
    "\\end{align}\n",
    "Therefore, $B = exp[\\beta] - 1$. You can get the standard error via the [Delta method](https://en.wikipedia.org/wiki/Delta_method). So the standard error is now $= se(\\beta) * exp(se(\\beta))$. \n"
   ]
  },
  {
   "cell_type": "code",
   "execution_count": 1,
   "id": "9b0f75f6",
   "metadata": {},
   "outputs": [],
   "source": [
    "import numpy as np\n",
    "import pandas as pd\n",
    "import statsmodels.api as sm\n",
    "\n",
    "\n",
    "%matplotlib inline\n",
    "\n",
    "import matplotlib\n",
    "import matplotlib.pyplot as plt\n"
   ]
  },
  {
   "cell_type": "markdown",
   "id": "822f066c",
   "metadata": {},
   "source": [
    "## DGP and Estimation Function\n",
    "We will create two different DGPs. The first is where the outcome is linear in treatment, and the second follows a Cobb-Douglas function."
   ]
  },
  {
   "cell_type": "code",
   "execution_count": 83,
   "id": "23017666",
   "metadata": {},
   "outputs": [],
   "source": [
    "def dgp_linear(N=1000, treatment_perc=0.50, scale=1):\n",
    "    y0 = np.random.uniform(1,5, N)*scale \n",
    "    w = np.random.choice(2,N)\n",
    "    treatment_effect = w*treatment_perc*y0\n",
    "    y_observed = y0 + treatment_effect \n",
    "    return pd.DataFrame(data={'y':y_observed, 'w':w})\n",
    "    \n",
    "    \n",
    "def dgp_cobbdouglas(N=1000, treatment_perc=0.50, scale=1):\n",
    "    w = np.random.choice(2,N)\n",
    "    x = np.random.normal(0,1, N) + treatment_perc*w\n",
    "    y_observed = np.exp(x)\n",
    "    return pd.DataFrame(data={'y':y_observed, 'w':w})\n",
    "    "
   ]
  },
  {
   "cell_type": "code",
   "execution_count": 38,
   "id": "772950d5",
   "metadata": {},
   "outputs": [],
   "source": [
    "def ols_estimate(data=None):a\n",
    "    ols_result = sm.OLS(yy,X).fit()\n",
    "    coef_ = ols_result.params['w']\n",
    "    se_ = ols_result.bse['w']\n",
    "    return coef_, se_"
   ]
  },
  {
   "cell_type": "code",
   "execution_count": 47,
   "id": "8ba1eabc",
   "metadata": {},
   "outputs": [],
   "source": [
    "df_results= pd.DataFrame()\n",
    "for sim in range(100):\n",
    "    df = dgp_linear(scale=s_)\n",
    "    coef_,se_ = ols_estimate(data=df)\n",
    "    df_results= pd.concat([df_results, pd.DataFrame(index=[sim],data={'coef':coef_\n",
    "                                                         ,'se':se_\n",
    "                                                        ,'corrected_coef':np.exp(coef_)-1\n",
    "                                                        ,'func':'linear'})  ])\n",
    "    df = dgp_cobbdouglas(scale=s_)\n",
    "    coef_,se_ = ols_estimate(data=df)\n",
    "    df_results= pd.concat([df_results, pd.DataFrame(index=[sim],data={'coef':coef_\n",
    "                                                         ,'se':se_\n",
    "                                                        ,'func':'cobbdouglas'})  ])    "
   ]
  },
  {
   "cell_type": "code",
   "execution_count": 49,
   "id": "48405e49",
   "metadata": {},
   "outputs": [],
   "source": [
    "plot_ = df_results.groupby('func').mean()"
   ]
  },
  {
   "cell_type": "code",
   "execution_count": 103,
   "id": "d0794f88",
   "metadata": {},
   "outputs": [],
   "source": [
    "from sklearn import metrics"
   ]
  },
  {
   "cell_type": "code",
   "execution_count": 121,
   "id": "aa7f02cc",
   "metadata": {},
   "outputs": [
    {
     "data": {
      "text/plain": [
       "Text(0.5, 1.0, 'Model: $ln(Y) = \\\\hat{\\\\beta_0} + \\\\hat{\\\\beta_1} W$')"
      ]
     },
     "execution_count": 121,
     "metadata": {},
     "output_type": "execute_result"
    },
    {
     "data": {
      "image/png": "[encoded data removed]",
      "text/plain": [
       "<Figure size 500x300 with 1 Axes>"
      ]
     },
     "metadata": {},
     "output_type": "display_data"
    }
   ],
   "source": [
    "fig,ax = plt.subplots(ncols=1,nrows=1,figsize=(5,3))\n",
    "ax.bar([r'exp[$\\hat{\\beta_1}$]-1', r'$\\hat{\\beta_1}$' ]\n",
    "        , [plot_['corrected_coef'].mean() , plot_['coef'].values.tolist()[-1]] \n",
    "      , color='seagreen')\n",
    "ax.plot([-0.5,1.5], [0.5]*2, color='black', linewidth=3)\n",
    "ax.text(x=1,y=0.465,s='True ROI Value')\n",
    "ax.set_ylabel('Estimated ROI')\n",
    "ax.set_title(r'Model: $ln(Y) = \\hat{\\beta_0} + \\hat{\\beta_1} W$')"
   ]
  },
  {
   "cell_type": "code",
   "execution_count": 82,
   "id": "6780c543",
   "metadata": {},
   "outputs": [
    {
     "data": {
      "text/plain": [
       "Text(0, 0.5, 'Estimate')"
      ]
     },
     "execution_count": 82,
     "metadata": {},
     "output_type": "execute_result"
    },
    {
     "data": {
      "image/png": "[encoded data removed]",
      "text/plain": [
       "<Figure size 500x300 with 1 Axes>"
      ]
     },
     "metadata": {},
     "output_type": "display_data"
    }
   ],
   "source": [
    "fig,ax = plt.subplots(ncols=1,nrows=1,figsize=(5,3))\n",
    "ax.bar(['linear,\\nexp[B]-1', 'cobb-douglas,\\nB', 'linear,\\nB' ]\n",
    "        , [plot_['corrected_coef'].mean()] + plot_['coef'].values.tolist() \n",
    "      , color='orchid')\n",
    "ax.set_ylabel('Estimate')"
   ]
  },
  {
   "cell_type": "code",
   "execution_count": null,
   "id": "42a4a4af",
   "metadata": {},
   "outputs": [],
   "source": []
  }
 ],
 "metadata": {
  "kernelspec": {
   "display_name": "Python 3 (ipykernel)",
   "language": "python",
   "name": "python3"
  },
  "language_info": {
   "codemirror_mode": {
    "name": "ipython",
    "version": 3
   },
   "file_extension": ".py",
   "mimetype": "text/x-python",
   "name": "python",
   "nbconvert_exporter": "python",
   "pygments_lexer": "ipython3",
   "version": "3.9.13"
  }
 },
 "nbformat": 4,
 "nbformat_minor": 5
}
