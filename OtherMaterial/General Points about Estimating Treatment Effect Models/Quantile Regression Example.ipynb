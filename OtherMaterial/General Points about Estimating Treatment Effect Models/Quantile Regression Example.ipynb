{
 "cells": [
  {
   "cell_type": "markdown",
   "id": "5ae30378",
   "metadata": {},
   "source": [
    "# Quantile Regression Example\n",
    "Julian Hsu\n",
    "\n",
    "10-August-2023"
   ]
  },
  {
   "cell_type": "code",
   "execution_count": 1,
   "id": "d5d58742",
   "metadata": {},
   "outputs": [],
   "source": [
    "import pandas as pd\n",
    "import numpy as np\n",
    "import os as os \n",
    "\n",
    "from matplotlib import gridspec\n",
    "import matplotlib.pyplot as plt\n",
    "%matplotlib inline  \n",
    "\n",
    "import statsmodels.api as sm"
   ]
  },
  {
   "cell_type": "markdown",
   "id": "91e6874b",
   "metadata": {},
   "source": [
    "## DGP Functions"
   ]
  },
  {
   "cell_type": "code",
   "execution_count": 14,
   "id": "74569c4e",
   "metadata": {},
   "outputs": [],
   "source": [
    "## Write a function to write simulated data that has a skew in outcomes explainable byu observed features\n",
    "def dgp(N=1000, te=100, skew_var=1, X_random = 0.05):\n",
    "    \n",
    "    ## X1 is a normal variable\n",
    "    x1 = np.random.normal(0,skew_var, N)\n",
    "    \n",
    "    ## X2 is bimodaly distributed\n",
    "    x2 = np.zeros(N)\n",
    "    x2[0: int(N/2)] = np.random.uniform(-5,-2, int(N/2))\n",
    "    x2[-1*int(N/2):] = np.random.uniform(2,5, int(N/2))\n",
    "    \n",
    "\n",
    "    ## For a random X%, generate skewed outliers    \n",
    "    random10 = int( N * X_random )    \n",
    "    x1[0:random10] = np.random.uniform( np.percentile(x1,0.95),np.percentile(x1,0.95)*1.75, random10 )\n",
    "    \n",
    "    treatment_latent = 10*(x2-0.5)**2 + 10*x1\n",
    "    m,s = np.average(treatment_latent), np.std(treatment_latent)\n",
    "    treatment_latent = (treatment_latent - m) / s\n",
    "    \n",
    "    random_t = np.random.normal(0,1,N)\n",
    "    \n",
    "    treatment_latent += random_t\n",
    "    \n",
    "    treatment = np.array( np.exp(treatment_latent) / (1+ np.exp(treatment_latent)) > np.random.uniform(0,1,N) ).astype(np.int32)\n",
    "\n",
    "    treatment[0:random10] = np.random.choice(2, random10)\n",
    "    \n",
    "    Y = 100 +1.5*x1 + 6*x2 + np.random.normal(0,1, N)\n",
    "\n",
    "    GT = te\n",
    "    Y += GT*(treatment==1) \n",
    "        \n",
    "    df_est = pd.DataFrame({'x1':x1, 'x2':x2,'treatment':treatment, 'Y':Y, 'GT':GT} )\n",
    "    return df_est"
   ]
  },
  {
   "cell_type": "code",
   "execution_count": 15,
   "id": "ded3e6c8",
   "metadata": {},
   "outputs": [],
   "source": [
    "df = dgp(N=1000, te=5, skew_var=1, X_random = 0.05)\n"
   ]
  },
  {
   "cell_type": "code",
   "execution_count": 16,
   "id": "27a520ac",
   "metadata": {},
   "outputs": [
    {
     "data": {
      "text/plain": [
       "<matplotlib.collections.PathCollection at 0x28a027efbe0>"
      ]
     },
     "execution_count": 16,
     "metadata": {},
     "output_type": "execute_result"
    },
    {
     "data": {
      "image/png": "[encoded data removed]",
      "text/plain": [
       "<Figure size 800x300 with 1 Axes>"
      ]
     },
     "metadata": {},
     "output_type": "display_data"
    }
   ],
   "source": [
    "fig,ax = plt.subplots(ncols=1,nrows=1,figsize=(8,3))\n",
    "ax.scatter(df['x2'], df['Y'])"
   ]
  },
  {
   "cell_type": "code",
   "execution_count": 22,
   "id": "8d36bbc0",
   "metadata": {},
   "outputs": [],
   "source": [
    "median_quantile_reg = sm.QuantReg(endog=df['Y'], exog=sm.add_constant(df['x1']) ).fit(q=0.5)"
   ]
  },
  {
   "cell_type": "code",
   "execution_count": 23,
   "id": "11a3fdf3",
   "metadata": {},
   "outputs": [
    {
     "data": {
      "text/html": [
       "<table class=\"simpletable\">\n",
       "<caption>QuantReg Regression Results</caption>\n",
       "<tr>\n",
       "  <th>Dep. Variable:</th>         <td>Y</td>        <th>  Pseudo R-squared:  </th> <td> 0.04736</td>\n",
       "</tr>\n",
       "<tr>\n",
       "  <th>Model:</th>             <td>QuantReg</td>     <th>  Bandwidth:         </th> <td>   10.59</td>\n",
       "</tr>\n",
       "<tr>\n",
       "  <th>Method:</th>          <td>Least Squares</td>  <th>  Sparsity:          </th> <td>   122.6</td>\n",
       "</tr>\n",
       "<tr>\n",
       "  <th>Date:</th>          <td>Thu, 10 Aug 2023</td> <th>  No. Observations:  </th>  <td>  1000</td> \n",
       "</tr>\n",
       "<tr>\n",
       "  <th>Time:</th>              <td>21:18:45</td>     <th>  Df Residuals:      </th>  <td>   998</td> \n",
       "</tr>\n",
       "<tr>\n",
       "  <th> </th>                      <td> </td>        <th>  Df Model:          </th>  <td>     1</td> \n",
       "</tr>\n",
       "</table>\n",
       "<table class=\"simpletable\">\n",
       "<tr>\n",
       "    <td></td>       <th>coef</th>     <th>std err</th>      <th>t</th>      <th>P>|t|</th>  <th>[0.025</th>    <th>0.975]</th>  \n",
       "</tr>\n",
       "<tr>\n",
       "  <th>const</th> <td>  105.7336</td> <td>    1.966</td> <td>   53.791</td> <td> 0.000</td> <td>  101.876</td> <td>  109.591</td>\n",
       "</tr>\n",
       "<tr>\n",
       "  <th>x1</th>    <td>    7.9547</td> <td>    1.608</td> <td>    4.946</td> <td> 0.000</td> <td>    4.798</td> <td>   11.111</td>\n",
       "</tr>\n",
       "</table>"
      ],
      "text/plain": [
       "<class 'statsmodels.iolib.summary.Summary'>\n",
       "\"\"\"\n",
       "                         QuantReg Regression Results                          \n",
       "==============================================================================\n",
       "Dep. Variable:                      Y   Pseudo R-squared:              0.04736\n",
       "Model:                       QuantReg   Bandwidth:                       10.59\n",
       "Method:                 Least Squares   Sparsity:                        122.6\n",
       "Date:                Thu, 10 Aug 2023   No. Observations:                 1000\n",
       "Time:                        21:18:45   Df Residuals:                      998\n",
       "                                        Df Model:                            1\n",
       "==============================================================================\n",
       "                 coef    std err          t      P>|t|      [0.025      0.975]\n",
       "------------------------------------------------------------------------------\n",
       "const        105.7336      1.966     53.791      0.000     101.876     109.591\n",
       "x1             7.9547      1.608      4.946      0.000       4.798      11.111\n",
       "==============================================================================\n",
       "\"\"\""
      ]
     },
     "execution_count": 23,
     "metadata": {},
     "output_type": "execute_result"
    }
   ],
   "source": [
    "median_quantile_reg.summary()"
   ]
  },
  {
   "cell_type": "code",
   "execution_count": null,
   "id": "5e067482",
   "metadata": {},
   "outputs": [],
   "source": []
  }
 ],
 "metadata": {
  "kernelspec": {
   "display_name": "Python 3 (ipykernel)",
   "language": "python",
   "name": "python3"
  },
  "language_info": {
   "codemirror_mode": {
    "name": "ipython",
    "version": 3
   },
   "file_extension": ".py",
   "mimetype": "text/x-python",
   "name": "python",
   "nbconvert_exporter": "python",
   "pygments_lexer": "ipython3",
   "version": "3.9.13"
  }
 },
 "nbformat": 4,
 "nbformat_minor": 5
}
